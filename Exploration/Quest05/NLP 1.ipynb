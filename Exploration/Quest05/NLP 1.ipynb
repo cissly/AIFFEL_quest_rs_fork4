{
 "cells": [
  {
   "cell_type": "markdown",
   "id": "fa3e76df-d6a8-4283-8e99-33c98721f970",
   "metadata": {},
   "source": [
    "# 학습 목표\n",
    "- 텍스트 데이터를 머신러닝 입출력용 수치데이터로 변환하는 과정을 이해합니다.\n",
    "- RNN의 특징을 이해하고 시퀀셜한 데이터를 다루는 방법을 이해합니다.\n",
    "- 1-D CNN으로도 텍스트를 처리할 수 있음을 이해합니다.\n",
    "- IMDB와 네이버 영화리뷰 데이터셋을 이용한 영화리뷰 감성 분류 실습을 진행합니다."
   ]
  },
  {
   "cell_type": "markdown",
   "id": "87887163-e232-4006-bdcb-b4d3c442f694",
   "metadata": {},
   "source": [
    "# 1. 감성분석해보기\n",
    "\n",
    "그동안 배운 NLP와 RNN을 통해 영화리뷰에 대한 Sentiment Analysis를 해볼 것이다.\n",
    "\n",
    " "
   ]
  },
  {
   "cell_type": "code",
   "execution_count": 11,
   "id": "9605d8b2-c870-4b19-bafd-d1263f0a35bf",
   "metadata": {
    "scrolled": true
   },
   "outputs": [],
   "source": [
    "# 실습에 활용할 수 있도록 라이브러리 설치 및 다운그레이드를 수행합니다\n",
    "#!pip install gensim==4.3.2\n",
    "#!conda install scipy==1.11.2 numpy==1.26.3 -y"
   ]
  },
  {
   "cell_type": "markdown",
   "id": "d4498c3a-3eb2-4f13-a376-23afdfad8ad4",
   "metadata": {},
   "source": [
    "# 2. 텍스트 감정분석의 유용성\n",
    "\n",
    "Sentiment Analysis이란 Text에 담긴 감성을 분석하는 행위다. \n",
    "\n",
    "즉, 어떤 리뷰 text에 대해서 이용자의 감성이 긍정적인지 부정적인지 또는 다른 감정을 지녔는지 등등을 분류하는 것이다.\n",
    "\n",
    "---\n",
    "\n",
    "Sentiment Analysis에는 크게 두가지 기법이 있다고 한다.\n",
    "\n",
    "- ML based approach : text에서 feature를 뽑아서$($Encoding or Embedding$)$, supervised-learning으로 분류 진행\n",
    "\n",
    "- Lexicon-based Approach : 미리 정의해둔 감성사전을 통해, text에 등장하는 각 단어마다 점수를 매겨, 그 점수들의 합으로 분류 진행"
   ]
  },
  {
   "cell_type": "markdown",
   "id": "caba88af-4926-4a8c-a704-171b3ef2bfb3",
   "metadata": {},
   "source": [
    "# 3. 텍스트 데이터의 특징\n",
    "\n",
    "그럼 Text를 모델에 넣기전에 숫자형식으로 변환을 해야 한다.\n",
    "\n",
    "NLP - [[Pytorch transformer를 활용한 NLP와 CV 심층학습] 5장. Tokenization](https://kakarukaka24.tistory.com/55), [[Pytorch transformer를 활용한 NLP와 CV 심층학습] 6장. Embedding](https://kakarukaka24.tistory.com/57)에서 배운 것들을 활용할 것이다.\n",
    "\n"
   ]
  },
  {
   "cell_type": "markdown",
   "id": "464ff599-bada-4c73-b51a-b74818c7d929",
   "metadata": {},
   "source": [
    "## 3-1. Encoding\n",
    "위 링크 5장과 6장의 TF-IDF까지는 Encoding에 해당한다."
   ]
  },
  {
   "cell_type": "code",
   "execution_count": 13,
   "id": "2d383bfd-c196-47e7-a87a-d90ef9868c70",
   "metadata": {},
   "outputs": [
    {
     "name": "stdout",
     "output_type": "stream",
     "text": [
      "['i', 'feel', 'hungry']\n"
     ]
    }
   ],
   "source": [
    "sentences=['i feel hungry', 'i eat lunch', 'now i feel happy']\n",
    "\n",
    "# split()을 통해 Tokenization\n",
    "word_list = 'i feel hungry'.split()\n",
    "print(word_list)"
   ]
  },
  {
   "cell_type": "code",
   "execution_count": 14,
   "id": "e940b2e5-f91e-4a45-b569-6cdb69c293dc",
   "metadata": {},
   "outputs": [
    {
     "name": "stdout",
     "output_type": "stream",
     "text": [
      "{0: '<PAD>', 1: '<BOS>', 2: '<UNK>', 3: 'i', 4: 'feel', 5: 'hungry', 6: 'eat', 7: 'lunch', 8: 'now', 9: 'happy', 10: '</BOS>'}\n"
     ]
    }
   ],
   "source": [
    "index_to_word={}  # 빈 딕셔너리를 만들어서\n",
    "\n",
    "# 단어를 손수 집어넣기, 순서는 임의로 넣음\n",
    "# <BOS>, <PAD>, <UNK>는 관례적으로 딕셔너리 맨 앞에\n",
    "index_to_word[0]='<PAD>'  # 패딩용 단어\n",
    "index_to_word[1]='<BOS>'  # 문장의 시작지점\n",
    "index_to_word[2]='<UNK>'  # 사전에 없는(Unknown) 단어\n",
    "index_to_word[3]='i'\n",
    "index_to_word[4]='feel'\n",
    "index_to_word[5]='hungry'\n",
    "index_to_word[6]='eat'\n",
    "index_to_word[7]='lunch'\n",
    "index_to_word[8]='now'\n",
    "index_to_word[9]='happy'\n",
    "index_to_word[10]='</BOS>' # 문장의 끝 지점 - 추가함\n",
    "\n",
    "print(index_to_word)"
   ]
  },
  {
   "cell_type": "code",
   "execution_count": 15,
   "id": "b328709f-9b31-4805-b5b0-0b3626072fa8",
   "metadata": {},
   "outputs": [
    {
     "name": "stdout",
     "output_type": "stream",
     "text": [
      "{'<PAD>': 0, '<BOS>': 1, '<UNK>': 2, 'i': 3, 'feel': 4, 'hungry': 5, 'eat': 6, 'lunch': 7, 'now': 8, 'happy': 9, '</BOS>': 10}\n"
     ]
    }
   ],
   "source": [
    "word_to_index={word:index for index, word in index_to_word.items()}\n",
    "print(word_to_index)"
   ]
  },
  {
   "cell_type": "code",
   "execution_count": 16,
   "id": "60d48192-2047-4463-94be-f7350c2b3061",
   "metadata": {},
   "outputs": [
    {
     "name": "stdout",
     "output_type": "stream",
     "text": [
      "6\n"
     ]
    }
   ],
   "source": [
    "print(word_to_index['eat'])  # 단어 'eat'은 숫자 인덱스 6로 바뀐다."
   ]
  },
  {
   "cell_type": "code",
   "execution_count": 17,
   "id": "f0aa802e-7f24-4370-aba4-4cb53f077795",
   "metadata": {},
   "outputs": [
    {
     "name": "stdout",
     "output_type": "stream",
     "text": [
      "[1, 3, 6, 2, 7, 10]\n"
     ]
    }
   ],
   "source": [
    "def get_encoded_sentence(sentence, word_to_index):\n",
    "    \"\"\"\n",
    "    문장 1개와 단어 사전을 넣으면, 단어 index list로 변환해주는 함수\n",
    "    모든 문장은 <BOS>로 시작해서, </BOS>로 끝남\n",
    "    \"\"\"\n",
    "    return [word_to_index['<BOS>']]+[word_to_index[word] if word in word_to_index else word_to_index['<UNK>'] for word in sentence.split()]  + [word_to_index['</BOS>']]\n",
    "\n",
    "print(get_encoded_sentence('i eat beutiful lunch', word_to_index))\n",
    "\n",
    "# <BOS> -> 1\n",
    "# i -> 3\n",
    "# eat -> 6\n",
    "# beutiful -> 2 <UNK>\n",
    "# lunch -> 7\n",
    "# </BOS> -> 10"
   ]
  },
  {
   "cell_type": "code",
   "execution_count": 18,
   "id": "16fd6e5e-ed1a-4ff4-872d-5d6fc1d43219",
   "metadata": {},
   "outputs": [
    {
     "name": "stdout",
     "output_type": "stream",
     "text": [
      "[[1, 3, 4, 5, 10], [1, 3, 6, 7, 10], [1, 8, 3, 4, 9, 10]]\n"
     ]
    }
   ],
   "source": [
    "def get_encoded_sentences(sentences, word_to_index):\n",
    "    \"\"\"\n",
    "    여러개의 문장 리스트를 한꺼번에 숫자로 encoding하는 함수\n",
    "    \"\"\"\n",
    "    return [get_encoded_sentence(sentence, word_to_index) for sentence in sentences]\n",
    "\n",
    "# sentences=['i feel hungry', 'i eat lunch', 'now i feel happy'] 가 아래와 같이 변환됩니다.\n",
    "encoded_sentences = get_encoded_sentences(sentences, word_to_index)\n",
    "print(encoded_sentences)"
   ]
  },
  {
   "cell_type": "code",
   "execution_count": 19,
   "id": "ac23826b-54a1-41ca-82f6-ee7275e2146c",
   "metadata": {},
   "outputs": [
    {
     "name": "stdout",
     "output_type": "stream",
     "text": [
      "i feel hungry\n"
     ]
    }
   ],
   "source": [
    "def get_decoded_sentence(encoded_sentence, index_to_word):\n",
    "    \"\"\"\n",
    "    숫자 vector를 원래 text 문장으로 decoding 하는 함수\n",
    "    \"\"\"\n",
    "    return ' '.join(index_to_word[index] if index in index_to_word else '<UNK>' for index in encoded_sentence[1:])  #[1:]를 통해 <BOS>를 제외\n",
    "\n",
    "print(get_decoded_sentence([1, 3, 4, 5], index_to_word))"
   ]
  },
  {
   "cell_type": "code",
   "execution_count": 20,
   "id": "035030d6-180e-4e28-9ea4-9fd6f21204e7",
   "metadata": {},
   "outputs": [
    {
     "name": "stdout",
     "output_type": "stream",
     "text": [
      "['i feel hungry </BOS>', 'i eat lunch </BOS>', 'now i feel happy </BOS>']\n"
     ]
    }
   ],
   "source": [
    "def get_decoded_sentences(encoded_sentences, index_to_word):\n",
    "    \"\"\"\n",
    "    여러 vector를 decoding 해주는 함수\n",
    "    \"\"\"\n",
    "    return [get_decoded_sentence(encoded_sentence, index_to_word) for encoded_sentence in encoded_sentences]\n",
    "\n",
    "# encoded_sentences=[[1, 3, 4, 5, 10], [1, 3, 6, 7, 10], [1, 8, 3, 4, 9, 10]] 가 아래와 같이 변환.\n",
    "print(get_decoded_sentences(encoded_sentences, index_to_word))"
   ]
  },
  {
   "cell_type": "markdown",
   "id": "60c1e678-b519-4c69-a4fe-3b922633047a",
   "metadata": {},
   "source": [
    "## 3-2. Embedding"
   ]
  },
  {
   "cell_type": "code",
   "execution_count": 21,
   "id": "721440d2-32c9-412d-bb1c-2c3c0dc9ff6b",
   "metadata": {},
   "outputs": [
    {
     "name": "stdout",
     "output_type": "stream",
     "text": [
      "tensor([[[-0.3737,  0.1491,  0.1069,  1.5883],\n",
      "         [-2.0440,  0.4430,  0.4596,  1.3757],\n",
      "         [-0.0492,  0.9758,  1.5106,  0.7085],\n",
      "         [-0.9957,  0.1767, -2.4968, -0.1154],\n",
      "         [-1.1025, -0.1788,  0.2440,  0.8394]],\n",
      "\n",
      "        [[-0.3737,  0.1491,  0.1069,  1.5883],\n",
      "         [-2.0440,  0.4430,  0.4596,  1.3757],\n",
      "         [-0.6704,  0.0129,  1.8265, -1.1400],\n",
      "         [-1.0962, -1.1873, -1.2564, -0.7148],\n",
      "         [-1.1025, -0.1788,  0.2440,  0.8394]],\n",
      "\n",
      "        [[-0.3737,  0.1491,  0.1069,  1.5883],\n",
      "         [-1.1606,  1.4512,  0.0602,  0.3451],\n",
      "         [-2.0440,  0.4430,  0.4596,  1.3757],\n",
      "         [-0.0492,  0.9758,  1.5106,  0.7085],\n",
      "         [ 0.6090, -1.2742, -0.2411, -0.9406]]], grad_fn=<EmbeddingBackward0>)\n"
     ]
    }
   ],
   "source": [
    "import torch\n",
    "import torch.nn as nn\n",
    "import numpy as np\n",
    "import os\n",
    "import torch.nn.functional as F\n",
    "\n",
    "vocab_size = len(word_to_index)   # 위 예시에서 딕셔너리에 포함된 단어 개수는 11\n",
    "word_vector_dim = 4   # 4차원의 워드 벡터를 가정\n",
    "\n",
    "embedding = nn.Embedding(vocab_size, word_vector_dim, padding_idx=word_to_index['<PAD>'])\n",
    "\n",
    "# nn.Embedding를 통해 word vector를 모두 일정 길이로 맞춰주어야\n",
    "# embedding 레이어의 input이 될 수 있음\n",
    "encoded_sentences = get_encoded_sentences(sentences, word_to_index)\n",
    "maxlen = 5\n",
    "padded_sentences = [sentence + [word_to_index['<PAD>']] * (maxlen - len(sentence)) if len(sentence) < maxlen else sentence[:maxlen] for sentence in encoded_sentences]\n",
    "\n",
    "# 또는 함수가 존재함\n",
    "# from torch.nn.utils.rnn import pad_sequence\n",
    "# padding_side='right' -> 시퀀스 뒤쪽에 패딩 추가 <> left 존재함\n",
    "# padded_sentences = pad_sequence(encoded_sentences, batch_first=True, padding_value=word_to_index['<PAD>'], padding_side='right')\n",
    "# 다만 maxlen은 인자가 없기에, 직접 padded_sentences = padded_sentences[:, :maxlen] 끊어줘야함\n",
    "\n",
    "\n",
    "raw_inputs = torch.tensor(padded_sentences, dtype=torch.long)\n",
    "output = embedding (raw_inputs)\n",
    "print(output)"
   ]
  },
  {
   "cell_type": "markdown",
   "id": "16603a33-2563-47de-bd01-e83920c1dbe6",
   "metadata": {},
   "source": [
    "# 4. 시퀀스 데이터를 다루는 RNN\n",
    "RNN - Recurrent Neural Network\n",
    "\n",
    "시퀀스 데이터를 처리하기 위한 모델이다. \n",
    "\n",
    "---\n",
    "\n",
    "해당 모델부터는 state라는 개념이 나온다. \n",
    "\n",
    "state란 이전 시점의 정보를 다음 시점으로 전달해주는 개념이다. \n",
    "\n",
    "즉, 직전 시점의 정보들을 기억하고 다음 시점에 추가해주는 거다. - 물론 rnn이 이런 개념이었지만, 긴 문장은 해결을 못하는..."
   ]
  },
  {
   "cell_type": "code",
   "execution_count": 22,
   "id": "afa8eb99-1f79-4d2f-8a98-df076a34271f",
   "metadata": {},
   "outputs": [
    {
     "name": "stdout",
     "output_type": "stream",
     "text": [
      "Model_1(\n",
      "  (embedding): Embedding(11, 4)\n",
      "  (lstm): LSTM(4, 8, batch_first=True)\n",
      "  (fc1): Linear(in_features=8, out_features=8, bias=True)\n",
      "  (relu): ReLU()\n",
      "  (fc2): Linear(in_features=8, out_features=1, bias=True)\n",
      "  (sigmoid): Sigmoid()\n",
      ")\n"
     ]
    }
   ],
   "source": [
    "class Model_1(nn.Module):\n",
    "    def __init__(self, vocab_size, word_vector_dim):\n",
    "        super(Model_1, self).__init__()\n",
    "        self.embedding = nn.Embedding(vocab_size, word_vector_dim)\n",
    "        self.lstm = nn.LSTM(word_vector_dim, 8, batch_first=True)   # 가장 널리 쓰이는 RNN인 LSTM 레이어를 사용하였습니다. 이때 LSTM state 벡터의 차원수는 8로 하였습니다. (변경 가능)\n",
    "        self.fc1 = nn.Linear(8, 8)\n",
    "        self.relu = nn.ReLU()\n",
    "        self.fc2 = nn.Linear(8, 1)    # 최종 출력은 긍정/부정\n",
    "        self.sigmoid = nn.Sigmoid()\n",
    "\n",
    "    def forward(self, x):\n",
    "        x = self.embedding(x)\n",
    "        lstm_out, (h_n, c_n) = self.lstm(x)\n",
    "        x = h_n[-1]\n",
    "        x = self.fc1(x)\n",
    "        x = self.relu(x)\n",
    "        x = self.fc2(x)\n",
    "        x = self.sigmoid(x)\n",
    "        return x\n",
    "\n",
    "vocab_size = 11   # 어휘 사전의 크기입니다(11개의 단어)\n",
    "word_vector_dim = 4   # 단어 하나를 표현하는 임베딩 벡터의 차원수입니다.\n",
    "model = Model_1(vocab_size, word_vector_dim)\n",
    "\n",
    "print(model)"
   ]
  },
  {
   "cell_type": "markdown",
   "id": "92893195-ca08-453a-a68f-67c9b2038ba4",
   "metadata": {},
   "source": [
    "# 5. 꼭 RNN이어야 할까?"
   ]
  },
  {
   "cell_type": "code",
   "execution_count": 23,
   "id": "d9f4a537-6f8c-4ed8-8b30-1fc02c32dac9",
   "metadata": {},
   "outputs": [
    {
     "name": "stdout",
     "output_type": "stream",
     "text": [
      "Model_2(\n",
      "  (embedding): Embedding(11, 4)\n",
      "  (conv1): Conv1d(4, 16, kernel_size=(7,), stride=(1,))\n",
      "  (conv2): Conv1d(16, 16, kernel_size=(7,), stride=(1,))\n",
      "  (pool): MaxPool1d(kernel_size=5, stride=5, padding=0, dilation=1, ceil_mode=False)\n",
      "  (global_max_pooling): AdaptiveMaxPool1d(output_size=1)\n",
      "  (fc1): Linear(in_features=16, out_features=8, bias=True)\n",
      "  (relu): ReLU()\n",
      "  (fc2): Linear(in_features=8, out_features=1, bias=True)\n",
      "  (sigmoid): Sigmoid()\n",
      ")\n"
     ]
    }
   ],
   "source": [
    "# 이렇게 Conv 1d로도 시퀀스 데이터에 적용이 가능하다.\n",
    "# conv 2d와 사용법은 거의 동일하다.\n",
    "# 아래 코드상으로는 이미지에서는 H,W는 줄어들고, feature map이 깊어지는것처럼\n",
    "# text는 시퀀스 길이가 줄어들고, feature map이 깊어짐\n",
    "class Model_2(nn.Module):\n",
    "    def __init__(self, vocab_size, word_vector_dim):\n",
    "        super(Model_2, self).__init__()\n",
    "        self.embedding = nn.Embedding(vocab_size, word_vector_dim)\n",
    "        self.conv1 = nn.Conv1d(word_vector_dim, 16, kernel_size=7)\n",
    "        self.conv2 = nn.Conv1d(16, 16, kernel_size=7)\n",
    "        self.pool = nn.MaxPool1d(5)\n",
    "        self.global_max_pooling = nn.AdaptiveMaxPool1d(1)\n",
    "        self.fc1 = nn.Linear(16, 8)\n",
    "        self.relu = nn.ReLU()\n",
    "        self.fc2 = nn.Linear(8, 1)    # 최종 출력은 긍정/부정\n",
    "        self.sigmoid = nn.Sigmoid()\n",
    "\n",
    "    def forward(self, x):\n",
    "        x = self.embedding(x)\n",
    "        x = x.permute(0, 2, 1)\n",
    "        x = self.conv1(x)\n",
    "        x = self.relu(x)\n",
    "        x = self.pool(x)\n",
    "        x = self.conv2(x)\n",
    "        x = self.relu(x)\n",
    "        x = self.global_max_pooling(x)\n",
    "        x = x.view(x.size(0), -1)\n",
    "        x = self.fc1(x)\n",
    "        x = self.relu(x)\n",
    "        x = self.fc2(x)\n",
    "        x = self.sigmoid(x)\n",
    "        return x\n",
    "\n",
    "vocab_size = 11    # 어휘 사전의 크기입니다(11개의 단어)\n",
    "word_vector_dim = 4   # 단어 하나를 표현하는 임베딩 벡터의 차원 수입니다.\n",
    "model = Model_2(vocab_size, word_vector_dim)\n",
    "\n",
    "print(model)"
   ]
  },
  {
   "cell_type": "code",
   "execution_count": 24,
   "id": "e2565dfa-6563-4c07-a819-cf71f0ea0f55",
   "metadata": {},
   "outputs": [
    {
     "name": "stdout",
     "output_type": "stream",
     "text": [
      "Model_3(\n",
      "  (embedding): Embedding(11, 4)\n",
      "  (global_max_pooling): AdaptiveMaxPool1d(output_size=1)\n",
      "  (fc1): Linear(in_features=4, out_features=8, bias=True)\n",
      "  (relu): ReLU()\n",
      "  (fc2): Linear(in_features=8, out_features=1, bias=True)\n",
      "  (sigmoid): Sigmoid()\n",
      ")\n"
     ]
    }
   ],
   "source": [
    "# RNN이나 CNN 없이 시퀀스 데이터를 처리하는 방법\n",
    "# 1) Embedding으로 단어를 벡터화\n",
    "# 2) AdaptiveMaxPool1d로 시퀀스 차원을 축소 (각 임베딩 차원별 최대값 추출)\n",
    "# 3) FC layer로 바로 학습하여 긍정/부정 예측\n",
    "class Model_3(nn.Module):\n",
    "    def __init__(self, vocab_size, word_vector_dim):\n",
    "        super(Model_3, self).__init__()\n",
    "        self.embedding = nn.Embedding(vocab_size, word_vector_dim)\n",
    "        self.global_max_pooling = nn.AdaptiveMaxPool1d(1)\n",
    "        self.fc1 = nn.Linear(word_vector_dim, 8)\n",
    "        self.relu = nn.ReLU()\n",
    "        self.fc2 = nn.Linear(8, 1)    # 최종 출력은 긍정/부정\n",
    "        self.sigmoid = nn.Sigmoid()\n",
    "\n",
    "    def forward(self, x):\n",
    "        x = self.embedding(x)\n",
    "        x = x.permute(0, 2, 1)\n",
    "        x = self.global_max_pooling(x)\n",
    "        x = x.view(x.size(0), -1)\n",
    "        x = self.fc1(x)\n",
    "        x = self.relu(x)\n",
    "        x = self.fc2(x)\n",
    "        x = self.sigmoid(x)\n",
    "        return x\n",
    "\n",
    "vocab_size = 11   # 어휘 사전의 크기입니다(11개의 단어)\n",
    "word_vector_dim = 4   # 단어 하나를 표현하는 임베딩 벡터의 차원 수입니다.\n",
    "model = Model_3(vocab_size, word_vector_dim)\n",
    "\n",
    "print(model)"
   ]
  },
  {
   "cell_type": "markdown",
   "id": "4a530108-f179-4e37-8dec-6efb470c27b1",
   "metadata": {},
   "source": [
    "# 6. IMDB 영화리뷰 감성분석"
   ]
  },
  {
   "cell_type": "markdown",
   "id": "1dc3ad50-5e06-4fea-bc9e-dc7f8263d1f4",
   "metadata": {},
   "source": [
    "## 6-1. IMDB 데이터셋 분석"
   ]
  },
  {
   "cell_type": "code",
   "execution_count": 34,
   "id": "c8547ca5-7679-441c-bf9e-0c45761b20b5",
   "metadata": {},
   "outputs": [
    {
     "name": "stdout",
     "output_type": "stream",
     "text": [
      "훈련 샘플 개수: 25000, 테스트 개수: 25000\n"
     ]
    }
   ],
   "source": [
    "# 원본 IMDb 데이터셋 다운로드\n",
    "# import tensorflow as tf\n",
    "# imdb = tf.keras.datasets.imdb\n",
    "# (x_train, y_train), (x_test, y_test) = imdb.load_data(num_words=10000)\n",
    "\n",
    "#!cp -r ~/work/sentiment_classification/data ~/work/project/Exploration/Quest05/sentiment_classification/\n",
    "\n",
    "# 미리 다운 받아놓은 걸로 시작\n",
    "data_dir = 'sentiment_classification/data/'\n",
    "\n",
    "x_train = np.load(data_dir + 'imdb_x_train.npy', allow_pickle=True)\n",
    "y_train = np.load(data_dir + 'imdb_y_train.npy', allow_pickle=True)\n",
    "x_test = np.load(data_dir + 'imdb_x_test.npy', allow_pickle=True)\n",
    "y_test = np.load(data_dir + 'imdb_y_test.npy', allow_pickle=True)\n",
    "print(f\"훈련 샘플 개수: {len(x_train)}, 테스트 개수: {len(x_test)}\")"
   ]
  },
  {
   "cell_type": "code",
   "execution_count": 35,
   "id": "01232f2f-3555-4d30-8abc-2beb86e5a54a",
   "metadata": {},
   "outputs": [
    {
     "name": "stdout",
     "output_type": "stream",
     "text": [
      "[1, 14, 22, 16, 43, 530, 973, 1622, 1385, 65, 458, 4468, 66, 3941, 4, 173, 36, 256, 5, 25, 100, 43, 838, 112, 50, 670, 2, 9, 35, 480, 284, 5, 150, 4, 172, 112, 167, 2, 336, 385, 39, 4, 172, 4536, 1111, 17, 546, 38, 13, 447, 4, 192, 50, 16, 6, 147, 2025, 19, 14, 22, 4, 1920, 4613, 469, 4, 22, 71, 87, 12, 16, 43, 530, 38, 76, 15, 13, 1247, 4, 22, 17, 515, 17, 12, 16, 626, 18, 2, 5, 62, 386, 12, 8, 316, 8, 106, 5, 4, 2223, 5244, 16, 480, 66, 3785, 33, 4, 130, 12, 16, 38, 619, 5, 25, 124, 51, 36, 135, 48, 25, 1415, 33, 6, 22, 12, 215, 28, 77, 52, 5, 14, 407, 16, 82, 2, 8, 4, 107, 117, 5952, 15, 256, 4, 2, 7, 3766, 5, 723, 36, 71, 43, 530, 476, 26, 400, 317, 46, 7, 4, 2, 1029, 13, 104, 88, 4, 381, 15, 297, 98, 32, 2071, 56, 26, 141, 6, 194, 7486, 18, 4, 226, 22, 21, 134, 476, 26, 480, 5, 144, 30, 5535, 18, 51, 36, 28, 224, 92, 25, 104, 4, 226, 65, 16, 38, 1334, 88, 12, 16, 283, 5, 16, 4472, 113, 103, 32, 15, 16, 5345, 19, 178, 32]\n",
      "라벨:  1\n",
      "1번째 리뷰 문장 길이:  218\n",
      "2번째 리뷰 문장 길이:  189\n"
     ]
    }
   ],
   "source": [
    "print(x_train[0])  # 1번째 리뷰데이터\n",
    "print('라벨: ', y_train[0])  # 1번째 리뷰데이터의 라벨\n",
    "print('1번째 리뷰 문장 길이: ', len(x_train[0]))\n",
    "print('2번째 리뷰 문장 길이: ', len(x_train[1]))"
   ]
  },
  {
   "cell_type": "code",
   "execution_count": 36,
   "id": "8155671a-e679-41f4-96ef-90c76e0c91af",
   "metadata": {},
   "outputs": [
    {
     "name": "stdout",
     "output_type": "stream",
     "text": [
      "the\n",
      "1\n"
     ]
    }
   ],
   "source": [
    "# word_to_index = imdb.get_word_index()\n",
    "word_to_index = np.load(data_dir + 'imdb_word_to_index.pickle', allow_pickle=True)\n",
    "index_to_word = {index:word for word, index in word_to_index.items()}\n",
    "print(index_to_word[1])     # 'the' 가 출력됩니다.\n",
    "print(word_to_index['the'])  # 1 이 출력됩니다."
   ]
  },
  {
   "cell_type": "code",
   "execution_count": 37,
   "id": "66468f82-db77-454f-8116-534295182145",
   "metadata": {},
   "outputs": [
    {
     "name": "stdout",
     "output_type": "stream",
     "text": [
      "as you with out themselves powerful lets loves their becomes reaching had journalist of lot from anyone to have after out atmosphere never more room and it so heart shows to years of every never going and help moments or of every chest visual movie except her was several of enough more with is now current film as you of mine potentially unfortunately of you than him that with out themselves her get for was camp of you movie sometimes movie that with scary but and to story wonderful that in seeing in character to of 70s musicians with heart had shadows they of here that with her serious to have does when from why what have critics they is you that isn't one will very to as itself with other and in of seen over landed for anyone of and br show's to whether from than out themselves history he name half some br of and odd was two most of mean for 1 any an boat she he should is thought frog but of script you not while history he heart to real at barrel but when from one bit then have two of script their with her nobody most that with wasn't to with armed acting watch an for with heartfelt film want an\n"
     ]
    }
   ],
   "source": [
    "# 보정 전 x_train[0] 데이터\n",
    "# 다만 이상하게 보인다. 글이 뒤죽박죽이다.\n",
    "# 이는 실제 이 encoding할때는 맨 앞에 특수 토큰을 넣고 진행했지만\n",
    "# 저렇게 데이터로 배포할때는 특수토큰을 제거하고 앞당겨서 배포한듯 함\n",
    "print(get_decoded_sentence(x_train[0], index_to_word))"
   ]
  },
  {
   "cell_type": "code",
   "execution_count": 38,
   "id": "b833e331-d166-4620-a7a6-8e1dc08e27e5",
   "metadata": {},
   "outputs": [
    {
     "name": "stdout",
     "output_type": "stream",
     "text": [
      "<BOS>\n",
      "4\n",
      "the\n"
     ]
    }
   ],
   "source": [
    "#실제 인코딩 인덱스는 제공된 word_to_index에서 index 기준으로 3씩 뒤로 밀려 있음\n",
    "word_to_index = {k:(v+3) for k,v in word_to_index.items()}\n",
    "\n",
    "word_to_index[\"<PAD>\"] = 0\n",
    "word_to_index[\"<BOS>\"] = 1\n",
    "word_to_index[\"<UNK>\"] = 2  # unknown\n",
    "word_to_index[\"<UNUSED>\"] = 3\n",
    "\n",
    "index_to_word = {index:word for word, index in word_to_index.items()}\n",
    "\n",
    "print(index_to_word[1])     # '<BOS>' 가 출력됩니다.\n",
    "print(word_to_index['the'])  # 4 이 출력됩니다.\n",
    "print(index_to_word[4])     # 'the' 가 출력됩니다.\n"
   ]
  },
  {
   "cell_type": "code",
   "execution_count": 39,
   "id": "b9d0be28-5403-432f-928b-2bac127bc0f7",
   "metadata": {},
   "outputs": [
    {
     "name": "stdout",
     "output_type": "stream",
     "text": [
      "this film was just brilliant casting location scenery story direction everyone's really suited the part they played and you could just imagine being there robert <UNK> is an amazing actor and now the same being director <UNK> father came from the same scottish island as myself so i loved the fact there was a real connection with this film the witty remarks throughout the film were great it was just brilliant so much that i bought the film as soon as it was released for <UNK> and would recommend it to everyone to watch and the fly fishing was amazing really cried at the end it was so sad and you know what they say if you cry at a film it must have been good and this definitely was also <UNK> to the two little boy's that played the <UNK> of norman and paul they were just brilliant children are often left out of the <UNK> list i think because the stars that play them all grown up are such a big profile for the whole film but these children are amazing and should be praised for what they have done don't you think the whole story was so lovely because it was true and was someone's life after all that was shared with us all\n",
      "라벨:  1\n"
     ]
    }
   ],
   "source": [
    "print(get_decoded_sentence(x_train[0], index_to_word))\n",
    "print('라벨: ', y_train[0])  # 1번째 리뷰데이터의 라벨"
   ]
  },
  {
   "cell_type": "code",
   "execution_count": 40,
   "id": "26aea12e-f3cc-46b1-b72e-2e32aea715bd",
   "metadata": {},
   "outputs": [
    {
     "name": "stdout",
     "output_type": "stream",
     "text": [
      "문장길이 평균 :  234.75892\n",
      "문장길이 최대 :  2494\n",
      "문장길이 표준편차 :  172.91149458735703\n",
      "pad_sequences maxlen :  580\n",
      "전체 문장의 0.94536%가 maxlen 설정값 이내에 포함됩니다. \n"
     ]
    }
   ],
   "source": [
    "total_data_text = list(x_train) + list(x_test)\n",
    "# 텍스트데이터 문장길이의 리스트를 생성한 후\n",
    "num_tokens = [len(tokens) for tokens in total_data_text]\n",
    "num_tokens = np.array(num_tokens)\n",
    "# 문장길이의 평균값, 최대값, 표준편차를 계산해 본다.\n",
    "print('문장길이 평균 : ', np.mean(num_tokens))\n",
    "print('문장길이 최대 : ', np.max(num_tokens))\n",
    "print('문장길이 표준편차 : ', np.std(num_tokens))\n",
    "\n",
    "# 예를들어, 최대 길이를 (평균 + 2*표준편차)로 한다면,\n",
    "max_tokens = np.mean(num_tokens) + 2 * np.std(num_tokens)\n",
    "maxlen = int(max_tokens)\n",
    "print('pad_sequences maxlen : ', maxlen)\n",
    "print(f'전체 문장의 {np.sum(num_tokens < max_tokens) / len(num_tokens)}%가 maxlen 설정값 이내에 포함됩니다. ')"
   ]
  },
  {
   "cell_type": "code",
   "execution_count": 48,
   "id": "856e067d-1daa-44db-9867-2cdd9e00043b",
   "metadata": {},
   "outputs": [
    {
     "name": "stdout",
     "output_type": "stream",
     "text": [
      "torch.Size([25000, 580])\n"
     ]
    }
   ],
   "source": [
    "def pad_sequences(data, maxlen, padding_side='post'):\n",
    "    padded_data = []\n",
    "    for sentence in data:\n",
    "        if len(sentence) < maxlen:\n",
    "            if padding_side=='pre':\n",
    "                sentence = sentence + [0] * (maxlen - len(sentence)) # pad_sequences의 padding 방식 : pre\n",
    "            elif padding_side=='post':\n",
    "                sentence = [0] * (maxlen - len(sentence)) + sentence # pad_sequences의 padding 방식 : post\n",
    "        else:\n",
    "            sentence = sentence[:maxlen]\n",
    "        padded_data.append(sentence)\n",
    "    return np.array(padded_data)\n",
    "\n",
    "x_train_padded = pad_sequences(x_train, maxlen)\n",
    "x_test_padded = pad_sequences(x_test, maxlen)\n",
    "\n",
    "x_train_tensor = torch.tensor(x_train_padded, dtype=torch.long)\n",
    "x_test_tensor = torch.tensor(x_test_padded, dtype=torch.long)\n",
    "\n",
    "print(x_train_tensor.shape)"
   ]
  },
  {
   "cell_type": "markdown",
   "id": "745058fe-a613-446e-b61a-7fa55c932a48",
   "metadata": {},
   "source": [
    "# 6-2 딥러닝 모델 설계와 훈련"
   ]
  },
  {
   "cell_type": "code",
   "execution_count": 50,
   "id": "120e8083-d957-4ee3-9bf1-35624b4de2b8",
   "metadata": {},
   "outputs": [
    {
     "name": "stdout",
     "output_type": "stream",
     "text": [
      "SentimentModel(\n",
      "  (embedding): Embedding(10000, 16)\n",
      "  (lstm): LSTM(16, 8, batch_first=True)\n",
      "  (fc1): Linear(in_features=8, out_features=8, bias=True)\n",
      "  (fc2): Linear(in_features=8, out_features=1, bias=True)\n",
      ")\n"
     ]
    }
   ],
   "source": [
    "import torch\n",
    "import torch.nn as nn\n",
    "import torch.nn.functional as F\n",
    "\n",
    "vocab_size = 10000    # 어휘 사전의 크기 -> 나머지 잘 안쓰이는 어휘는 <UNK>로 됨\n",
    "                      # 여기서는 따로 처리를 안했지만, 실제 데이터에서는 처리하고 진행해야함\n",
    "word_vector_dim = 16  # 워드 벡터의 차원 수 (변경 가능한 하이퍼파라미터)\n",
    "\n",
    "class SentimentModel(nn.Module):\n",
    "    def __init__(self, vocab_size, word_vector_dim):\n",
    "        super(SentimentModel, self).__init__()\n",
    "        self.embedding = nn.Embedding(vocab_size, word_vector_dim)\n",
    "        self.lstm = nn.LSTM(word_vector_dim, 8, batch_first=True)\n",
    "        self.fc1 = nn.Linear(8, 8)\n",
    "        self.fc2 = nn.Linear(8, 1)\n",
    "\n",
    "    def forward(self, x):\n",
    "        x = self.embedding(x)\n",
    "        x, (hn, cn) = self.lstm(x)\n",
    "        x = x[:, -1, :]\n",
    "        x = F.relu(self.fc1(x))\n",
    "        x = torch.sigmoid(self.fc2(x))\n",
    "        return x\n",
    "\n",
    "model = SentimentModel(vocab_size, word_vector_dim)\n",
    "print(model)"
   ]
  },
  {
   "cell_type": "code",
   "execution_count": 51,
   "id": "524e126e-7dc2-4626-a627-985b77accec6",
   "metadata": {},
   "outputs": [
    {
     "name": "stdout",
     "output_type": "stream",
     "text": [
      "torch.Size([15000, 580])\n",
      "(15000,)\n"
     ]
    }
   ],
   "source": [
    "# validation set 10000건 분리\n",
    "x_val = x_train_tensor[:10000]\n",
    "y_val = y_train[:10000]\n",
    "\n",
    "# validation set을 제외한 나머지 15000건\n",
    "partial_x_train = x_train_tensor[10000:]\n",
    "partial_y_train = y_train[10000:]\n",
    "\n",
    "print(partial_x_train.shape)\n",
    "print(partial_y_train.shape)"
   ]
  },
  {
   "cell_type": "code",
   "execution_count": 52,
   "id": "566d93ac-d2ae-4fd3-a349-9493dbc02866",
   "metadata": {
    "scrolled": true
   },
   "outputs": [
    {
     "name": "stderr",
     "output_type": "stream",
     "text": [
      "/tmp/ipykernel_135/2649448084.py:8: UserWarning: To copy construct from a tensor, it is recommended to use sourceTensor.detach().clone() or sourceTensor.detach().clone().requires_grad_(True), rather than torch.tensor(sourceTensor).\n",
      "  partial_x_train_tensor = torch.tensor(partial_x_train, dtype=torch.long)\n",
      "/tmp/ipykernel_135/2649448084.py:11: UserWarning: To copy construct from a tensor, it is recommended to use sourceTensor.detach().clone() or sourceTensor.detach().clone().requires_grad_(True), rather than torch.tensor(sourceTensor).\n",
      "  x_val_tensor = torch.tensor(x_val, dtype=torch.long)\n"
     ]
    },
    {
     "name": "stdout",
     "output_type": "stream",
     "text": [
      "cuda\n",
      "Epoch 1/30 - Train Loss: 0.6990, Train Accuracy: 0.5035 - Validation Loss: 0.6980, Validation Accuracy: 0.4947\n",
      "Epoch 2/30 - Train Loss: 0.6947, Train Accuracy: 0.5033 - Validation Loss: 0.6942, Validation Accuracy: 0.4949\n",
      "Epoch 3/30 - Train Loss: 0.6923, Train Accuracy: 0.5129 - Validation Loss: 0.6922, Validation Accuracy: 0.5196\n",
      "Epoch 4/30 - Train Loss: 0.6905, Train Accuracy: 0.5380 - Validation Loss: 0.6905, Validation Accuracy: 0.5311\n",
      "Epoch 5/30 - Train Loss: 0.6884, Train Accuracy: 0.5552 - Validation Loss: 0.6885, Validation Accuracy: 0.5450\n",
      "Epoch 6/30 - Train Loss: 0.6851, Train Accuracy: 0.5699 - Validation Loss: 0.6851, Validation Accuracy: 0.5567\n",
      "Epoch 7/30 - Train Loss: 0.6783, Train Accuracy: 0.5835 - Validation Loss: 0.6788, Validation Accuracy: 0.5736\n",
      "Epoch 8/30 - Train Loss: 0.6654, Train Accuracy: 0.6114 - Validation Loss: 0.6649, Validation Accuracy: 0.6003\n",
      "Epoch 9/30 - Train Loss: 0.6406, Train Accuracy: 0.6417 - Validation Loss: 0.6378, Validation Accuracy: 0.6379\n",
      "Epoch 10/30 - Train Loss: 0.5992, Train Accuracy: 0.6895 - Validation Loss: 0.6115, Validation Accuracy: 0.6720\n",
      "Epoch 11/30 - Train Loss: 0.5670, Train Accuracy: 0.7169 - Validation Loss: 0.6024, Validation Accuracy: 0.6783\n",
      "Epoch 12/30 - Train Loss: 0.5372, Train Accuracy: 0.7403 - Validation Loss: 0.5876, Validation Accuracy: 0.7047\n",
      "Epoch 13/30 - Train Loss: 0.5154, Train Accuracy: 0.7583 - Validation Loss: 0.5789, Validation Accuracy: 0.7076\n",
      "Epoch 14/30 - Train Loss: 0.4990, Train Accuracy: 0.7700 - Validation Loss: 0.5732, Validation Accuracy: 0.7122\n",
      "Epoch 15/30 - Train Loss: 0.4739, Train Accuracy: 0.7871 - Validation Loss: 0.5673, Validation Accuracy: 0.7193\n",
      "Epoch 16/30 - Train Loss: 0.4578, Train Accuracy: 0.7956 - Validation Loss: 0.5604, Validation Accuracy: 0.7261\n",
      "Epoch 17/30 - Train Loss: 0.4450, Train Accuracy: 0.8058 - Validation Loss: 0.5634, Validation Accuracy: 0.7262\n",
      "Epoch 18/30 - Train Loss: 0.4329, Train Accuracy: 0.8143 - Validation Loss: 0.5514, Validation Accuracy: 0.7388\n",
      "Epoch 19/30 - Train Loss: 0.4222, Train Accuracy: 0.8193 - Validation Loss: 0.5542, Validation Accuracy: 0.7400\n",
      "Epoch 20/30 - Train Loss: 0.4186, Train Accuracy: 0.8233 - Validation Loss: 0.5452, Validation Accuracy: 0.7441\n",
      "Epoch 21/30 - Train Loss: 0.4026, Train Accuracy: 0.8325 - Validation Loss: 0.5435, Validation Accuracy: 0.7531\n",
      "Epoch 22/30 - Train Loss: 0.3856, Train Accuracy: 0.8433 - Validation Loss: 0.5377, Validation Accuracy: 0.7571\n",
      "Epoch 23/30 - Train Loss: 0.3784, Train Accuracy: 0.8481 - Validation Loss: 0.5413, Validation Accuracy: 0.7536\n",
      "Epoch 24/30 - Train Loss: 0.3715, Train Accuracy: 0.8516 - Validation Loss: 0.5426, Validation Accuracy: 0.7574\n",
      "Epoch 25/30 - Train Loss: 0.3626, Train Accuracy: 0.8550 - Validation Loss: 0.5505, Validation Accuracy: 0.7548\n",
      "Epoch 26/30 - Train Loss: 0.3671, Train Accuracy: 0.8522 - Validation Loss: 0.5356, Validation Accuracy: 0.7638\n",
      "Epoch 27/30 - Train Loss: 0.3735, Train Accuracy: 0.8485 - Validation Loss: 0.5368, Validation Accuracy: 0.7608\n",
      "Epoch 28/30 - Train Loss: 0.3478, Train Accuracy: 0.8634 - Validation Loss: 0.5341, Validation Accuracy: 0.7677\n",
      "Epoch 29/30 - Train Loss: 0.3353, Train Accuracy: 0.8692 - Validation Loss: 0.5348, Validation Accuracy: 0.7693\n",
      "Epoch 30/30 - Train Loss: 0.3246, Train Accuracy: 0.8749 - Validation Loss: 0.5362, Validation Accuracy: 0.7665\n"
     ]
    }
   ],
   "source": [
    "import torch.optim as optim\n",
    "import torch.nn.functional as F\n",
    "from torch.utils.data import DataLoader, TensorDataset\n",
    "\n",
    "optimizer = optim.Adam(model.parameters())\n",
    "loss_fn = torch.nn.BCELoss()\n",
    "\n",
    "partial_x_train_tensor = torch.tensor(partial_x_train, dtype=torch.long)\n",
    "partial_y_train_tensor = torch.tensor(partial_y_train, dtype=torch.float)\n",
    "\n",
    "x_val_tensor = torch.tensor(x_val, dtype=torch.long)\n",
    "y_val_tensor = torch.tensor(y_val, dtype=torch.float)\n",
    "\n",
    "train_dataset = TensorDataset(partial_x_train_tensor, partial_y_train_tensor)\n",
    "val_dataset = TensorDataset(x_val_tensor, y_val_tensor)\n",
    "\n",
    "train_loader = DataLoader(train_dataset, batch_size=512, shuffle=True)\n",
    "val_loader = DataLoader(val_dataset, batch_size=512, shuffle=False)\n",
    "\n",
    "epochs = 30   # 몇 epoch를 훈련하면 좋을지 결과를 보면서 바꾸어 봅시다.\n",
    "\n",
    "# 매 epoch마다 어떻게 변하는지 알기 위한 list\n",
    "train_losses = []\n",
    "val_losses = []\n",
    "train_accs = []\n",
    "val_accs = []\n",
    "\n",
    "device = torch.device(\"cuda\" if torch.cuda.is_available() else \"cpu\")\n",
    "print(device)  # cuda 또는 cpu 출력\n",
    "model.to(device)\n",
    "\n",
    "for epoch in range(epochs):\n",
    "    model.train()\n",
    "    running_loss = 0.0\n",
    "    correct = 0\n",
    "    total = 0\n",
    "\n",
    "    for inputs, labels in train_loader:\n",
    "        inputs = inputs.to(device)\n",
    "        labels = labels.to(device)\n",
    "        \n",
    "        optimizer.zero_grad()\n",
    "\n",
    "        outputs = model(inputs)\n",
    "        loss = loss_fn(outputs.squeeze(), labels)\n",
    "        loss.backward()\n",
    "        optimizer.step()\n",
    "\n",
    "        running_loss += loss.item()\n",
    "\n",
    "        predicted = (outputs.squeeze() > 0.5).float()\n",
    "        correct += (predicted == labels).sum().item()\n",
    "        total += labels.size(0)\n",
    "\n",
    "    train_losses.append(running_loss / len(train_loader))\n",
    "    train_accs.append(correct / total)\n",
    "\n",
    "    model.eval()\n",
    "    val_loss = 0.0\n",
    "    val_correct = 0\n",
    "    val_total = 0\n",
    "\n",
    "    # valid data에 대해서는 추론모드로 변경해서 진행\n",
    "    with torch.no_grad():\n",
    "        for inputs, labels in val_loader:\n",
    "            inputs = inputs.to(device)\n",
    "            labels = labels.to(device)\n",
    "            \n",
    "            outputs = model(inputs)\n",
    "            loss = loss_fn(outputs.squeeze(), labels)\n",
    "\n",
    "            val_loss += loss.item()\n",
    "            predicted = (outputs.squeeze() > 0.5).float()\n",
    "            val_correct += (predicted == labels).sum().item()\n",
    "            val_total += labels.size(0)\n",
    "\n",
    "    val_losses.append(val_loss / len(val_loader))\n",
    "    val_accs.append(val_correct / val_total)\n",
    "\n",
    "    print(f\"Epoch {epoch+1}/{epochs} - \"\n",
    "          f\"Train Loss: {train_losses[-1]:.4f}, Train Accuracy: {train_accs[-1]:.4f} - \"\n",
    "          f\"Validation Loss: {val_losses[-1]:.4f}, Validation Accuracy: {val_accs[-1]:.4f}\")"
   ]
  },
  {
   "cell_type": "code",
   "execution_count": 54,
   "id": "e0226457-501d-47ac-9c70-70b59ff45e08",
   "metadata": {},
   "outputs": [
    {
     "name": "stdout",
     "output_type": "stream",
     "text": [
      "Test Loss: 0.5475, Test Accuracy: 0.7602\n"
     ]
    }
   ],
   "source": [
    "test_dataset = TensorDataset(x_test_tensor, torch.tensor(y_test, dtype=torch.float32))\n",
    "test_loader = DataLoader(test_dataset, batch_size=512, shuffle=False)\n",
    "\n",
    "model.eval()\n",
    "test_loss = 0.0\n",
    "test_correct = 0\n",
    "test_total = 0\n",
    "\n",
    "with torch.no_grad():\n",
    "    for inputs, labels in test_loader:\n",
    "        inputs = inputs.to(device)\n",
    "        labels = labels.to(device)\n",
    "        \n",
    "        outputs = model(inputs)\n",
    "        loss = loss_fn(outputs.squeeze(), labels)\n",
    "\n",
    "        test_loss += loss.item()\n",
    "        predicted = (outputs.squeeze() > 0.5).float()\n",
    "        test_correct += (predicted == labels).sum().item()\n",
    "        test_total += labels.size(0)\n",
    "\n",
    "print(f\"Test Loss: {test_loss / len(test_loader):.4f}, Test Accuracy: {test_correct / test_total:.4f}\")"
   ]
  },
  {
   "cell_type": "code",
   "execution_count": 55,
   "id": "51b7b0c0-ed30-4a35-a9a1-0f3197bea0da",
   "metadata": {},
   "outputs": [
    {
     "data": {
      "image/png": "[encoded data removed]",
      "text/plain": [
       "<Figure size 640x480 with 1 Axes>"
      ]
     },
     "metadata": {},
     "output_type": "display_data"
    }
   ],
   "source": [
    "import matplotlib.pyplot as plt\n",
    "\n",
    "epochs_range = range(1, epochs + 1)\n",
    "\n",
    "# \"bo\"는 \"파란색 점\"입니다\n",
    "plt.plot(epochs_range, train_losses, 'bo', label='Training loss')\n",
    "# b는 \"파란 실선\"입니다\n",
    "plt.plot(epochs_range, val_losses, 'b', label='Validation loss')\n",
    "plt.title('Training and Validation Loss')\n",
    "plt.xlabel('Epochs')\n",
    "plt.ylabel('Loss')\n",
    "plt.legend()\n",
    "plt.show()"
   ]
  },
  {
   "cell_type": "code",
   "execution_count": 56,
   "id": "a0083299-6977-4306-91d8-a51b23d1aec9",
   "metadata": {},
   "outputs": [
    {
     "data": {
      "image/png": "[encoded data removed]",
      "text/plain": [
       "<Figure size 640x480 with 1 Axes>"
      ]
     },
     "metadata": {},
     "output_type": "display_data"
    }
   ],
   "source": [
    "plt.clf()   # 그림을 초기화합니다\n",
    "\n",
    "plt.plot(epochs_range, train_accs, 'bo', label='Training accuracy')\n",
    "plt.plot(epochs_range, val_accs, 'b', label='Validation accuracy')\n",
    "plt.title('Training and Validation Accuracy')\n",
    "plt.xlabel('Epochs')\n",
    "plt.ylabel('Accuracy')\n",
    "plt.legend()\n",
    "plt.show()"
   ]
  },
  {
   "cell_type": "markdown",
   "id": "6e706b0d-fcfe-4fa8-9831-2aa7d30bbab3",
   "metadata": {},
   "source": [
    "# 6-3. Word2Vec 적용"
   ]
  },
  {
   "cell_type": "code",
   "execution_count": 57,
   "id": "f625e435-18be-4857-ac37-3d0c7145109a",
   "metadata": {},
   "outputs": [
    {
     "name": "stdout",
     "output_type": "stream",
     "text": [
      "(10000, 16)\n"
     ]
    }
   ],
   "source": [
    "embedding_layer = model.embedding\n",
    "weights = embedding_layer.weight.detach().cpu().numpy()\n",
    "\n",
    "print(weights.shape)  # shape: (vocab_size, embedding_dim)"
   ]
  },
  {
   "cell_type": "code",
   "execution_count": 58,
   "id": "6faef263-157c-4004-b4bf-291a1843fdeb",
   "metadata": {},
   "outputs": [],
   "source": [
    "# 5장에서 학습한 Embedding 파라미터를 파일에 써서 저장\n",
    "# 이런식의 사용법도 존재한다 정도?\n",
    "word2vec_file_path = 'sentiment_classification/word2vec_emb/word2vec.txt'\n",
    "\n",
    "with open(word2vec_file_path, 'w') as f:\n",
    "    f.write('{} {}\\n'.format(vocab_size - 4, word_vector_dim))  # 몇개의 벡터를 얼마 사이즈로 기재할지 타이틀을 씁니다.\n",
    "\n",
    "    # 단어 개수(에서 특수문자 4개는 제외하고)만큼의 워드 벡터를 파일에 기록합니다.\n",
    "    vectors = model.embedding.weight.detach().cpu().numpy()\n",
    "    for i in range(4, vocab_size):\n",
    "        f.write('{} {}\\n'.format(index_to_word[i], ' '.join(map(str, vectors[i, :]))))"
   ]
  },
  {
   "cell_type": "code",
   "execution_count": null,
   "id": "3bc42dc5-08b6-4c04-9bef-9b0106fede27",
   "metadata": {
    "scrolled": true
   },
   "outputs": [],
   "source": [
    "from gensim.models.keyedvectors import Word2VecKeyedVectors\n",
    "word2vec_file_path = 'sentiment_classification/word2vec_emb/word2vec.txt'\n",
    "word_vectors = Word2VecKeyedVectors.load_word2vec_format(word2vec_file_path, binary=False)\n",
    "vector = word_vectors['computer']"
   ]
  },
  {
   "cell_type": "code",
   "execution_count": null,
   "id": "1a25d108-8194-4cc3-8ad4-c4ba7023c7dc",
   "metadata": {},
   "outputs": [],
   "source": [
    "word_vectors.similar_by_word(\"love\")"
   ]
  },
  {
   "cell_type": "markdown",
   "id": "748350c1-476c-4666-86ea-eaef36e95985",
   "metadata": {},
   "source": [
    "## 6-4. Google의 Word2Vec 모델 적용"
   ]
  },
  {
   "cell_type": "code",
   "execution_count": 65,
   "id": "a6f73d67-5b1f-47a3-8269-0f8777d03656",
   "metadata": {},
   "outputs": [
    {
     "name": "stdout",
     "output_type": "stream",
     "text": [
      "/home/jovyan/work/project/Exploration/Quest05\n"
     ]
    }
   ],
   "source": [
    "!pwd"
   ]
  },
  {
   "cell_type": "code",
   "execution_count": 74,
   "id": "97fb35ec-d91e-45ed-9fce-3aa33a093f2e",
   "metadata": {},
   "outputs": [],
   "source": [
    "#!mv ~/work/sentiment_classification/data/GoogleNews-vectors-negative300.bin.gz ~/work/project/Exploration/Quest05/sentiment_classification"
   ]
  },
  {
   "cell_type": "code",
   "execution_count": 75,
   "id": "23e26738-6cb0-4bd3-b1b4-65853f0c73d2",
   "metadata": {
    "scrolled": true
   },
   "outputs": [
    {
     "data": {
      "text/plain": [
       "array([ 1.07421875e-01, -2.01171875e-01,  1.23046875e-01,  2.11914062e-01,\n",
       "       -9.13085938e-02,  2.16796875e-01, -1.31835938e-01,  8.30078125e-02,\n",
       "        2.02148438e-01,  4.78515625e-02,  3.66210938e-02, -2.45361328e-02,\n",
       "        2.39257812e-02, -1.60156250e-01, -2.61230469e-02,  9.71679688e-02,\n",
       "       -6.34765625e-02,  1.84570312e-01,  1.70898438e-01, -1.63085938e-01,\n",
       "       -1.09375000e-01,  1.49414062e-01, -4.65393066e-04,  9.61914062e-02,\n",
       "        1.68945312e-01,  2.60925293e-03,  8.93554688e-02,  6.49414062e-02,\n",
       "        3.56445312e-02, -6.93359375e-02, -1.46484375e-01, -1.21093750e-01,\n",
       "       -2.27539062e-01,  2.45361328e-02, -1.24511719e-01, -3.18359375e-01,\n",
       "       -2.20703125e-01,  1.30859375e-01,  3.66210938e-02, -3.63769531e-02,\n",
       "       -1.13281250e-01,  1.95312500e-01,  9.76562500e-02,  1.26953125e-01,\n",
       "        6.59179688e-02,  6.93359375e-02,  1.02539062e-02,  1.75781250e-01,\n",
       "       -1.68945312e-01,  1.21307373e-03, -2.98828125e-01, -1.15234375e-01,\n",
       "        5.66406250e-02, -1.77734375e-01, -2.08984375e-01,  1.76757812e-01,\n",
       "        2.38037109e-02, -2.57812500e-01, -4.46777344e-02,  1.88476562e-01,\n",
       "        5.51757812e-02,  5.02929688e-02, -1.06933594e-01,  1.89453125e-01,\n",
       "       -1.16210938e-01,  8.49609375e-02, -1.71875000e-01,  2.45117188e-01,\n",
       "       -1.73828125e-01, -8.30078125e-03,  4.56542969e-02, -1.61132812e-02,\n",
       "        1.86523438e-01, -6.05468750e-02, -4.17480469e-02,  1.82617188e-01,\n",
       "        2.20703125e-01, -1.22558594e-01, -2.55126953e-02, -3.08593750e-01,\n",
       "        9.13085938e-02,  1.60156250e-01,  1.70898438e-01,  1.19628906e-01,\n",
       "        7.08007812e-02, -2.64892578e-02, -3.08837891e-02,  4.06250000e-01,\n",
       "       -1.01562500e-01,  5.71289062e-02, -7.26318359e-03, -9.17968750e-02,\n",
       "       -1.50390625e-01, -2.55859375e-01,  2.16796875e-01, -3.63769531e-02,\n",
       "        2.24609375e-01,  8.00781250e-02,  1.56250000e-01,  5.27343750e-02,\n",
       "        1.50390625e-01, -1.14746094e-01, -8.64257812e-02,  1.19140625e-01,\n",
       "       -7.17773438e-02,  2.73437500e-01, -1.64062500e-01,  7.29370117e-03,\n",
       "        4.21875000e-01, -1.12792969e-01, -1.35742188e-01, -1.31835938e-01,\n",
       "       -1.37695312e-01, -7.66601562e-02,  6.25000000e-02,  4.98046875e-02,\n",
       "       -1.91406250e-01, -6.03027344e-02,  2.27539062e-01,  5.88378906e-02,\n",
       "       -3.24218750e-01,  5.41992188e-02, -1.35742188e-01,  8.17871094e-03,\n",
       "       -5.24902344e-02, -1.74713135e-03, -9.81445312e-02, -2.86865234e-02,\n",
       "        3.61328125e-02,  2.15820312e-01,  5.98144531e-02, -3.08593750e-01,\n",
       "       -2.27539062e-01,  2.61718750e-01,  9.86328125e-02, -5.07812500e-02,\n",
       "        1.78222656e-02,  1.31835938e-01, -5.35156250e-01, -1.81640625e-01,\n",
       "        1.38671875e-01, -3.10546875e-01, -9.71679688e-02,  1.31835938e-01,\n",
       "       -1.16210938e-01,  7.03125000e-02,  2.85156250e-01,  3.51562500e-02,\n",
       "       -1.01562500e-01, -3.75976562e-02,  1.41601562e-01,  1.42578125e-01,\n",
       "       -5.68847656e-02,  2.65625000e-01, -2.09960938e-01,  9.64355469e-03,\n",
       "       -6.68945312e-02, -4.83398438e-02, -6.10351562e-02,  2.45117188e-01,\n",
       "       -9.66796875e-02,  1.78222656e-02, -1.27929688e-01, -4.78515625e-02,\n",
       "       -7.26318359e-03,  1.79687500e-01,  2.78320312e-02, -2.10937500e-01,\n",
       "       -1.43554688e-01, -1.27929688e-01,  1.73339844e-02, -3.60107422e-03,\n",
       "       -2.04101562e-01,  3.63159180e-03, -1.19628906e-01, -6.15234375e-02,\n",
       "        5.93261719e-02, -3.23486328e-03, -1.70898438e-01, -3.14941406e-02,\n",
       "       -8.88671875e-02, -2.89062500e-01,  3.44238281e-02, -1.87500000e-01,\n",
       "        2.94921875e-01,  1.58203125e-01, -1.19628906e-01,  7.61718750e-02,\n",
       "        6.39648438e-02, -4.68750000e-02, -6.83593750e-02,  1.21459961e-02,\n",
       "       -1.44531250e-01,  4.54101562e-02,  3.68652344e-02,  3.88671875e-01,\n",
       "        1.45507812e-01, -2.55859375e-01, -4.46777344e-02, -1.33789062e-01,\n",
       "       -1.38671875e-01,  6.59179688e-02,  1.37695312e-01,  1.14746094e-01,\n",
       "        2.03125000e-01, -4.78515625e-02,  1.80664062e-02, -8.54492188e-02,\n",
       "       -2.48046875e-01, -3.39843750e-01, -2.83203125e-02,  1.05468750e-01,\n",
       "       -2.14843750e-01, -8.74023438e-02,  7.12890625e-02,  1.87500000e-01,\n",
       "       -1.12304688e-01,  2.73437500e-01, -3.26171875e-01, -1.77734375e-01,\n",
       "       -4.24804688e-02, -2.69531250e-01,  6.64062500e-02, -6.88476562e-02,\n",
       "       -1.99218750e-01, -7.03125000e-02, -2.43164062e-01, -3.66210938e-02,\n",
       "       -7.37304688e-02, -1.77734375e-01,  9.17968750e-02, -1.25000000e-01,\n",
       "       -1.65039062e-01, -3.57421875e-01, -2.85156250e-01, -1.66992188e-01,\n",
       "        1.97265625e-01, -1.53320312e-01,  2.31933594e-02,  2.06054688e-01,\n",
       "        1.80664062e-01, -2.74658203e-02, -1.92382812e-01, -9.61914062e-02,\n",
       "       -1.06811523e-02, -4.73632812e-02,  6.54296875e-02, -1.25732422e-02,\n",
       "        1.78222656e-02, -8.00781250e-02, -2.59765625e-01,  9.37500000e-02,\n",
       "       -7.81250000e-02,  4.68750000e-02, -2.22167969e-02,  1.86767578e-02,\n",
       "        3.11279297e-02,  1.04980469e-02, -1.69921875e-01,  2.58789062e-02,\n",
       "       -3.41796875e-02, -1.44042969e-02, -5.46875000e-02, -8.78906250e-02,\n",
       "        1.96838379e-03,  2.23632812e-01, -1.36718750e-01,  1.75781250e-01,\n",
       "       -1.63085938e-01,  1.87500000e-01,  3.44238281e-02, -5.63964844e-02,\n",
       "       -2.27689743e-05,  4.27246094e-02,  5.81054688e-02, -1.07910156e-01,\n",
       "       -3.88183594e-02, -2.69531250e-01,  3.34472656e-02,  9.81445312e-02,\n",
       "        5.63964844e-02,  2.23632812e-01, -5.49316406e-02,  1.46484375e-01,\n",
       "        5.93261719e-02, -2.19726562e-01,  6.39648438e-02,  1.66015625e-02,\n",
       "        4.56542969e-02,  3.26171875e-01, -3.80859375e-01,  1.70898438e-01,\n",
       "        5.66406250e-02, -1.04492188e-01,  1.38671875e-01, -1.57226562e-01,\n",
       "        3.23486328e-03, -4.80957031e-02, -2.48046875e-01, -6.20117188e-02],\n",
       "      dtype=float32)"
      ]
     },
     "execution_count": 75,
     "metadata": {},
     "output_type": "execute_result"
    }
   ],
   "source": [
    "from gensim.models import KeyedVectors\n",
    "\n",
    "data_dir = 'sentiment_classification/data'\n",
    "word2vec_path = data_dir + 'GoogleNews-vectors-negative300.bin.gz'\n",
    "word2vec = KeyedVectors.load_word2vec_format(word2vec_path, binary=True, limit=1000000)\n",
    "vector = word2vec['computer']\n",
    "vector    "
   ]
  },
  {
   "cell_type": "code",
   "execution_count": 76,
   "id": "09604ee3-dac1-488e-9a69-787c489ab29a",
   "metadata": {},
   "outputs": [
    {
     "data": {
      "text/plain": [
       "[('loved', 0.6907791495323181),\n",
       " ('adore', 0.6816873550415039),\n",
       " ('loves', 0.661863386631012),\n",
       " ('passion', 0.6100708842277527),\n",
       " ('hate', 0.600395679473877),\n",
       " ('loving', 0.5886635780334473),\n",
       " ('affection', 0.5664337873458862),\n",
       " ('undying_love', 0.5547304749488831),\n",
       " ('absolutely_adore', 0.5536840558052063),\n",
       " ('adores', 0.5440906882286072)]"
      ]
     },
     "execution_count": 76,
     "metadata": {},
     "output_type": "execute_result"
    }
   ],
   "source": [
    "word2vec.similar_by_word(\"love\")"
   ]
  },
  {
   "cell_type": "code",
   "execution_count": 77,
   "id": "51c5f97b-9cf1-493f-9c66-d5d3019bd146",
   "metadata": {},
   "outputs": [],
   "source": [
    "vocab_size = 10000    # 어휘 사전의 크기\n",
    "word_vector_dim = 300  # 워드 벡터의 차원수\n",
    "embedding_matrix = np.random.rand(vocab_size, word_vector_dim) # 어차피 아래 for구문으로 덮어쓸거라서 zero로 해둬 상관X\n",
    "\n",
    "# embedding_matrix에 Word2Vec 워드 벡터를 단어 하나씩마다 차례차례 카피\n",
    "# 이는 사전 학습된 단어 벡터로 모델 초깃값으로 설정\n",
    "for i in range(4,vocab_size):\n",
    "    if index_to_word[i] in word2vec:\n",
    "        embedding_matrix[i] = word2vec[index_to_word[i]]"
   ]
  },
  {
   "cell_type": "code",
   "execution_count": 78,
   "id": "0ff98772-fabd-48a8-a59c-c86858eec886",
   "metadata": {},
   "outputs": [
    {
     "name": "stdout",
     "output_type": "stream",
     "text": [
      "SentimentModel(\n",
      "  (embedding): Embedding(10000, 300)\n",
      "  (conv1): Conv1d(300, 16, kernel_size=(7,), stride=(1,))\n",
      "  (pool): MaxPool1d(kernel_size=5, stride=5, padding=0, dilation=1, ceil_mode=False)\n",
      "  (conv2): Conv1d(16, 16, kernel_size=(7,), stride=(1,))\n",
      "  (global_max_pool): AdaptiveMaxPool1d(output_size=1)\n",
      "  (fc1): Linear(in_features=16, out_features=8, bias=True)\n",
      "  (fc2): Linear(in_features=8, out_features=1, bias=True)\n",
      ")\n"
     ]
    },
    {
     "name": "stderr",
     "output_type": "stream",
     "text": [
      "/tmp/ipykernel_152/1688845905.py:9: UserWarning: To copy construct from a tensor, it is recommended to use sourceTensor.detach().clone() or sourceTensor.detach().clone().requires_grad_(True), rather than torch.tensor(sourceTensor).\n",
      "  self.embedding.weight = nn.Parameter(torch.tensor(embedding_matrix, dtype=torch.float32))\n"
     ]
    }
   ],
   "source": [
    "import torch\n",
    "import torch.nn as nn\n",
    "import torch.nn.functional as F\n",
    "\n",
    "class SentimentModel(nn.Module):\n",
    "    def __init__(self, vocab_size, word_vector_dim, embedding_matrix, maxlen):\n",
    "        super(SentimentModel, self).__init__()\n",
    "        self.embedding = nn.Embedding(vocab_size, word_vector_dim)    # 카피한 임베딩을 여기서 활용\n",
    "        self.embedding.weight = nn.Parameter(torch.tensor(embedding_matrix, dtype=torch.float32))\n",
    "        self.embedding.weight.requires_grad = True\n",
    "        self.conv1 = nn.Conv1d(in_channels=word_vector_dim, out_channels=16, kernel_size=7)\n",
    "        self.pool = nn.MaxPool1d(kernel_size=5)\n",
    "        self.conv2 = nn.Conv1d(in_channels=16, out_channels=16, kernel_size=7)\n",
    "        self.global_max_pool = nn.AdaptiveMaxPool1d(1)\n",
    "        self.fc1 = nn.Linear(16, 8)\n",
    "        self.fc2 = nn.Linear(8, 1)\n",
    "\n",
    "    def forward(self, x):\n",
    "        x = self.embedding(x)\n",
    "        x = x.permute(0, 2, 1)\n",
    "        x = F.relu(self.conv1(x))\n",
    "        x = self.pool(x)\n",
    "        x = F.relu(self.conv2(x))\n",
    "        x = self.global_max_pool(x).squeeze(2)\n",
    "        x = F.relu(self.fc1(x))\n",
    "        x = torch.sigmoid(self.fc2(x))\n",
    "        return x\n",
    "\n",
    "vocab_size = 10000    # 어휘 사전의 크기\n",
    "word_vector_dim = 300  # 워드 벡터의 차원 수\n",
    "\n",
    "embedding_matrix = torch.randn(vocab_size, word_vector_dim)\n",
    "\n",
    "model = SentimentModel(vocab_size, word_vector_dim, embedding_matrix, maxlen)\n",
    "print(model)"
   ]
  },
  {
   "cell_type": "code",
   "execution_count": 79,
   "id": "9d058e95-7b09-432d-beee-cf100e18267a",
   "metadata": {
    "scrolled": true
   },
   "outputs": [
    {
     "name": "stderr",
     "output_type": "stream",
     "text": [
      "/tmp/ipykernel_152/630273488.py:7: UserWarning: To copy construct from a tensor, it is recommended to use sourceTensor.detach().clone() or sourceTensor.detach().clone().requires_grad_(True), rather than torch.tensor(sourceTensor).\n",
      "  partial_x_train_tensor = torch.tensor(partial_x_train, dtype=torch.long)\n",
      "/tmp/ipykernel_152/630273488.py:10: UserWarning: To copy construct from a tensor, it is recommended to use sourceTensor.detach().clone() or sourceTensor.detach().clone().requires_grad_(True), rather than torch.tensor(sourceTensor).\n",
      "  x_val_tensor = torch.tensor(x_val, dtype=torch.long)\n"
     ]
    },
    {
     "name": "stdout",
     "output_type": "stream",
     "text": [
      "cuda\n",
      "Epoch 1/20 - Train Loss: 0.6937, Train Accuracy: 0.5047 - Validation Loss: 0.6908, Validation Accuracy: 0.5031\n",
      "Epoch 2/20 - Train Loss: 0.6745, Train Accuracy: 0.6129 - Validation Loss: 0.6507, Validation Accuracy: 0.6580\n",
      "Epoch 3/20 - Train Loss: 0.5771, Train Accuracy: 0.7231 - Validation Loss: 0.5189, Validation Accuracy: 0.7541\n",
      "Epoch 4/20 - Train Loss: 0.4337, Train Accuracy: 0.8110 - Validation Loss: 0.4356, Validation Accuracy: 0.8009\n",
      "Epoch 5/20 - Train Loss: 0.3215, Train Accuracy: 0.8715 - Validation Loss: 0.3933, Validation Accuracy: 0.8239\n",
      "Epoch 6/20 - Train Loss: 0.2393, Train Accuracy: 0.9108 - Validation Loss: 0.3797, Validation Accuracy: 0.8339\n",
      "Epoch 7/20 - Train Loss: 0.1796, Train Accuracy: 0.9379 - Validation Loss: 0.3845, Validation Accuracy: 0.8369\n",
      "Epoch 8/20 - Train Loss: 0.1321, Train Accuracy: 0.9609 - Validation Loss: 0.3953, Validation Accuracy: 0.8393\n",
      "Epoch 9/20 - Train Loss: 0.0893, Train Accuracy: 0.9801 - Validation Loss: 0.3975, Validation Accuracy: 0.8439\n",
      "Epoch 10/20 - Train Loss: 0.0611, Train Accuracy: 0.9908 - Validation Loss: 0.4277, Validation Accuracy: 0.8414\n",
      "Epoch 11/20 - Train Loss: 0.0409, Train Accuracy: 0.9961 - Validation Loss: 0.4388, Validation Accuracy: 0.8458\n",
      "Epoch 12/20 - Train Loss: 0.0256, Train Accuracy: 0.9985 - Validation Loss: 0.4580, Validation Accuracy: 0.8449\n",
      "Epoch 13/20 - Train Loss: 0.0169, Train Accuracy: 0.9995 - Validation Loss: 0.4812, Validation Accuracy: 0.8469\n",
      "Epoch 14/20 - Train Loss: 0.0116, Train Accuracy: 0.9996 - Validation Loss: 0.5041, Validation Accuracy: 0.8441\n",
      "Epoch 15/20 - Train Loss: 0.0084, Train Accuracy: 0.9999 - Validation Loss: 0.5170, Validation Accuracy: 0.8454\n",
      "Epoch 16/20 - Train Loss: 0.0064, Train Accuracy: 0.9999 - Validation Loss: 0.5338, Validation Accuracy: 0.8458\n",
      "Epoch 17/20 - Train Loss: 0.0052, Train Accuracy: 0.9999 - Validation Loss: 0.5467, Validation Accuracy: 0.8454\n",
      "Epoch 18/20 - Train Loss: 0.0043, Train Accuracy: 0.9999 - Validation Loss: 0.5598, Validation Accuracy: 0.8460\n",
      "Epoch 19/20 - Train Loss: 0.0033, Train Accuracy: 0.9999 - Validation Loss: 0.5716, Validation Accuracy: 0.8458\n",
      "Epoch 20/20 - Train Loss: 0.0027, Train Accuracy: 1.0000 - Validation Loss: 0.5824, Validation Accuracy: 0.8478\n"
     ]
    }
   ],
   "source": [
    "import torch.optim as optim\n",
    "from torch.utils.data import DataLoader, TensorDataset\n",
    "\n",
    "optimizer = optim.Adam(model.parameters(), lr=0.001)\n",
    "loss_fn = torch.nn.BCELoss()\n",
    "\n",
    "partial_x_train_tensor = torch.tensor(partial_x_train, dtype=torch.long)\n",
    "partial_y_train_tensor = torch.tensor(partial_y_train, dtype=torch.float)\n",
    "\n",
    "x_val_tensor = torch.tensor(x_val, dtype=torch.long)\n",
    "y_val_tensor = torch.tensor(y_val, dtype=torch.float)\n",
    "\n",
    "train_dataset = TensorDataset(partial_x_train_tensor, partial_y_train_tensor)\n",
    "val_dataset = TensorDataset(x_val_tensor, y_val_tensor)\n",
    "\n",
    "train_loader = DataLoader(train_dataset, batch_size=512, shuffle=True)\n",
    "val_loader = DataLoader(val_dataset, batch_size=512, shuffle=False)\n",
    "\n",
    "# 학습의 진행\n",
    "epochs = 20    # 몇 epoch를 훈련하면 좋을지 결과를 보면서 바꾸어 봅시다.\n",
    "train_losses = []\n",
    "val_losses = []\n",
    "train_accs = []\n",
    "val_accs = []\n",
    "\n",
    "device = torch.device(\"cuda\" if torch.cuda.is_available() else \"cpu\")\n",
    "print(device)  # cuda 또는 cpu 출력\n",
    "model.to(device)\n",
    "\n",
    "for epoch in range(epochs):\n",
    "    model.train()\n",
    "    running_loss = 0.0\n",
    "    correct = 0\n",
    "    total = 0\n",
    "\n",
    "    for inputs, labels in train_loader:\n",
    "        inputs = inputs.to(device)\n",
    "        labels = labels.to(device)\n",
    "\n",
    "        optimizer.zero_grad()\n",
    "        outputs = model(inputs)\n",
    "        loss = loss_fn(outputs.squeeze(), labels)\n",
    "        loss.backward()\n",
    "        optimizer.step()\n",
    "\n",
    "        running_loss += loss.item()\n",
    "        predicted = (outputs.squeeze() > 0.5).float()\n",
    "        correct += (predicted == labels).sum().item()\n",
    "        total += labels.size(0)\n",
    "\n",
    "    train_losses.append(running_loss / len(train_loader))\n",
    "    train_accs.append(correct / total)\n",
    "\n",
    "    model.eval()\n",
    "    val_loss = 0.0\n",
    "    val_correct = 0\n",
    "    val_total = 0\n",
    "\n",
    "    with torch.no_grad():\n",
    "        for inputs, labels in val_loader:\n",
    "            inputs = inputs.to(device)\n",
    "            labels = labels.to(device)\n",
    "\n",
    "            outputs = model(inputs)\n",
    "            loss = loss_fn(outputs.squeeze(), labels)\n",
    "\n",
    "            val_loss += loss.item()\n",
    "            predicted = (outputs.squeeze() > 0.5).float()\n",
    "            val_correct += (predicted == labels).sum().item()\n",
    "            val_total += labels.size(0)\n",
    "\n",
    "    val_losses.append(val_loss / len(val_loader))\n",
    "    val_accs.append(val_correct / val_total)\n",
    "\n",
    "    print(f\"Epoch {epoch+1}/{epochs} - \"\n",
    "          f\"Train Loss: {train_losses[-1]:.4f}, Train Accuracy: {train_accs[-1]:.4f} - \"\n",
    "          f\"Validation Loss: {val_losses[-1]:.4f}, Validation Accuracy: {val_accs[-1]:.4f}\")"
   ]
  },
  {
   "cell_type": "code",
   "execution_count": 80,
   "id": "092203e8-7cad-42c0-859c-914d14d05e67",
   "metadata": {},
   "outputs": [
    {
     "name": "stdout",
     "output_type": "stream",
     "text": [
      "Test Loss: 0.6181, Test Accuracy: 0.8402\n"
     ]
    }
   ],
   "source": [
    "# 테스트셋을 통한 모델 평가\n",
    "model.eval()\n",
    "test_loss = 0.0\n",
    "test_correct = 0\n",
    "test_total = 0\n",
    "\n",
    "x_test_tensor = torch.tensor(x_test_padded, dtype=torch.long)\n",
    "y_test_tensor = torch.tensor(y_test, dtype=torch.float32)\n",
    "test_dataset = TensorDataset(x_test_tensor, y_test_tensor)\n",
    "test_loader = DataLoader(test_dataset, batch_size=512, shuffle=False)\n",
    "\n",
    "with torch.no_grad():\n",
    "    for inputs, labels in test_loader:\n",
    "        inputs = inputs.to(device)\n",
    "        labels = labels.to(device)\n",
    "        outputs = model(inputs)\n",
    "        loss = loss_fn(outputs.squeeze(), labels)\n",
    "\n",
    "        test_loss += loss.item()\n",
    "        predicted = (outputs.squeeze() > 0.5).float()\n",
    "        test_correct += (predicted == labels).sum().item()\n",
    "        test_total += labels.size(0)\n",
    "\n",
    "print(f\"Test Loss: {test_loss / len(test_loader):.4f}, Test Accuracy: {test_correct / test_total:.4f}\")"
   ]
  },
  {
   "cell_type": "code",
   "execution_count": 81,
   "id": "43a45c01-8470-4aa7-8344-854c4c08916c",
   "metadata": {},
   "outputs": [
    {
     "data": {
      "image/png": "[encoded data removed]",
      "text/plain": [
       "<Figure size 640x480 with 1 Axes>"
      ]
     },
     "metadata": {},
     "output_type": "display_data"
    }
   ],
   "source": [
    "import matplotlib.pyplot as plt\n",
    "\n",
    "epochs_range = range(1, epochs + 1)\n",
    "\n",
    "# \"bo\"는 \"파란색 점\"입니다\n",
    "plt.plot(epochs_range, train_losses, 'bo', label='Training loss')\n",
    "# b는 \"파란 실선\"입니다\n",
    "plt.plot(epochs_range, val_losses, 'b', label='Validation loss')\n",
    "plt.title('Training and Validation Loss')\n",
    "plt.xlabel('Epochs')\n",
    "plt.ylabel('Loss')\n",
    "plt.legend()\n",
    "plt.show()"
   ]
  },
  {
   "cell_type": "code",
   "execution_count": 82,
   "id": "1f50fbae-083a-4f53-a832-b53ba3caf016",
   "metadata": {},
   "outputs": [
    {
     "data": {
      "image/png": "[encoded data removed]",
      "text/plain": [
       "<Figure size 640x480 with 1 Axes>"
      ]
     },
     "metadata": {},
     "output_type": "display_data"
    }
   ],
   "source": [
    "plt.clf()   # 그림을 초기화합니다\n",
    "\n",
    "plt.plot(epochs_range, train_accs, 'bo', label='Training accuracy')\n",
    "plt.plot(epochs_range, val_accs, 'b', label='Validation accuracy')\n",
    "plt.title('Training and Validation Accuracy')\n",
    "plt.xlabel('Epochs')\n",
    "plt.ylabel('Accuracy')\n",
    "plt.legend()\n",
    "plt.show()"
   ]
  },
  {
   "cell_type": "code",
   "execution_count": null,
   "id": "c525eab9-aa95-4bdb-8ae1-64ff682cf91a",
   "metadata": {},
   "outputs": [],
   "source": []
  }
 ],
 "metadata": {
  "kernelspec": {
   "display_name": "Python 3 (ipykernel)",
   "language": "python",
   "name": "python3"
  },
  "language_info": {
   "codemirror_mode": {
    "name": "ipython",
    "version": 3
   },
   "file_extension": ".py",
   "mimetype": "text/x-python",
   "name": "python",
   "nbconvert_exporter": "python",
   "pygments_lexer": "ipython3",
   "version": "3.12.11"
  }
 },
 "nbformat": 4,
 "nbformat_minor": 5
}
