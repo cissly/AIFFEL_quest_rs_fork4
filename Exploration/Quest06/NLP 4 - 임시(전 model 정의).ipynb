{
 "cells": [
  {
   "cell_type": "markdown",
   "id": "ed3fda79-c0a2-4846-831e-b18e3c604b6f",
   "metadata": {},
   "source": [
    "# 1. 뉴스 기사 요약해보기\n",
    "\n",
    "| 학습목표 | 평가기준 |\n",
    "|:--|:--|\n",
    "| **Abstractive 모델 구성을 위한 텍스트 전처리 단계가 체계적으로 진행되었다.** | 분석단계, 정제단계, 정규화와 불용어 제거, 데이터셋 분리, 인코딩 과정이 빠짐없이 체계적으로 진행되었다. |\n",
    "| **텍스트 요약모델이 성공적으로 학습되었음을 확인하였다.** | 모델 학습이 진행되면서 train loss와 validation loss가 감소하는 경향을 그래프를 통해 확인했으며, 실제 요약문에 있는 핵심 단어들이 요약 문장 안에 포함되었다. |\n",
    "| **Extractive 요약을 시도해 보고 Abstractive 요약 결과와 함께 비교해 보았다.** | 두 요약 결과를 문법 완성도 측면과 핵심 단어 포함 측면으로 나누어 비교하고, 분석 결과를 표로 정리하여 제시하였다. |\n",
    "\n",
    "- 추출적 요약을 하는 경우에는 오직 text열만을 사용하세요.\n"
   ]
  },
  {
   "cell_type": "code",
   "execution_count": 1,
   "id": "30e9a4ca-83ca-45ce-8cbf-87783a99f47d",
   "metadata": {},
   "outputs": [],
   "source": [
    "#!pip install --upgrade summa\n",
    "#!pip install --upgrade nltk #3.9.1\n",
    "#!pip install beautifulsoup4 lxml"
   ]
  },
  {
   "cell_type": "code",
   "execution_count": 11,
   "id": "72da4404-5ce5-459a-b94c-37fecf3d4911",
   "metadata": {},
   "outputs": [
    {
     "name": "stdout",
     "output_type": "stream",
     "text": [
      "3.9.2\n",
      "2.7.1+cu118\n",
      "2.3.0\n",
      "1.2.0\n"
     ]
    },
    {
     "name": "stderr",
     "output_type": "stream",
     "text": [
      "[nltk_data] Downloading package stopwords to /home/jovyan/nltk_data...\n",
      "[nltk_data]   Package stopwords is already up-to-date!\n"
     ]
    }
   ],
   "source": [
    "from importlib.metadata import version\n",
    "import matplotlib.pyplot as plt\n",
    "import re\n",
    "\n",
    "import nltk\n",
    "from nltk.corpus import stopwords\n",
    "\n",
    "import torch\n",
    "import summa\n",
    "\n",
    "import pandas as pd\n",
    "import numpy as np\n",
    "from collections import Counter\n",
    "\n",
    "from bs4 import BeautifulSoup\n",
    "\n",
    "import urllib.request\n",
    "import warnings\n",
    "\n",
    "print(nltk.__version__)\n",
    "print(torch.__version__)\n",
    "print(pd.__version__)\n",
    "print(version('summa'))\n",
    "nltk.download('stopwords')\n",
    "warnings.filterwarnings(\"ignore\", category=UserWarning, module='bs4')"
   ]
  },
  {
   "cell_type": "code",
   "execution_count": 3,
   "id": "4e3f90ac-f0a6-4952-bc61-c4292bfaa0ab",
   "metadata": {},
   "outputs": [],
   "source": [
    "import urllib.request\n",
    "urllib.request.urlretrieve(\"https://raw.githubusercontent.com/sunnysai12345/News_Summary/master/news_summary_more.csv\", filename=\"news_summary_more.csv\")\n",
    "!mv news_summary_more.csv News_Summary/data\n",
    "data = pd.read_csv('news_summary_more.csv', encoding='iso-8859-1')"
   ]
  },
  {
   "cell_type": "code",
   "execution_count": 4,
   "id": "85ef9bd0-42e9-4107-b3fb-5cd339f5854a",
   "metadata": {},
   "outputs": [
    {
     "data": {
      "text/html": [
       "<div>\n",
       "<style scoped>\n",
       "    .dataframe tbody tr th:only-of-type {\n",
       "        vertical-align: middle;\n",
       "    }\n",
       "\n",
       "    .dataframe tbody tr th {\n",
       "        vertical-align: top;\n",
       "    }\n",
       "\n",
       "    .dataframe thead th {\n",
       "        text-align: right;\n",
       "    }\n",
       "</style>\n",
       "<table border=\"1\" class=\"dataframe\">\n",
       "  <thead>\n",
       "    <tr style=\"text-align: right;\">\n",
       "      <th></th>\n",
       "      <th>headlines</th>\n",
       "      <th>text</th>\n",
       "    </tr>\n",
       "  </thead>\n",
       "  <tbody>\n",
       "    <tr>\n",
       "      <th>55937</th>\n",
       "      <td>Artist uses Louis Vuitton bags to make Star Wa...</td>\n",
       "      <td>US-based artist and upcycler Gabriel Dishaw ha...</td>\n",
       "    </tr>\n",
       "    <tr>\n",
       "      <th>83711</th>\n",
       "      <td>India-born professor named Dean of MIT School ...</td>\n",
       "      <td>Anantha P Chandrakasan, an India-born professo...</td>\n",
       "    </tr>\n",
       "    <tr>\n",
       "      <th>79379</th>\n",
       "      <td>Murali picked up 800th Test wicket with career...</td>\n",
       "      <td>Sri Lankan spin legend Muttiah Muralitharan be...</td>\n",
       "    </tr>\n",
       "    <tr>\n",
       "      <th>10506</th>\n",
       "      <td>French Prez's European army proposal 'very ins...</td>\n",
       "      <td>US President Donald Trump has called French Pr...</td>\n",
       "    </tr>\n",
       "    <tr>\n",
       "      <th>3549</th>\n",
       "      <td>Congress should treat us well before forming a...</td>\n",
       "      <td>JD(S) supremo Deve Gowda has asked Congress to...</td>\n",
       "    </tr>\n",
       "    <tr>\n",
       "      <th>63434</th>\n",
       "      <td>Ã¢ÂÂ¹125 crore transferred into Aus woman's a...</td>\n",
       "      <td>An Australian woman found A$25 million (around...</td>\n",
       "    </tr>\n",
       "    <tr>\n",
       "      <th>59488</th>\n",
       "      <td>N Korea sacks soldiers for failing to stop def...</td>\n",
       "      <td>North Korea has reportedly sacked guards and f...</td>\n",
       "    </tr>\n",
       "    <tr>\n",
       "      <th>51809</th>\n",
       "      <td>16 held over demonetised notes worth Ã¢ÂÂ¹100...</td>\n",
       "      <td>Police have arrested 16 people in connection w...</td>\n",
       "    </tr>\n",
       "    <tr>\n",
       "      <th>63367</th>\n",
       "      <td>China denies reports of plan to divert Brahmap...</td>\n",
       "      <td>China on Tuesday rejected reports that it is p...</td>\n",
       "    </tr>\n",
       "    <tr>\n",
       "      <th>5639</th>\n",
       "      <td>Musk's SpaceX raises $500 million at $30 billi...</td>\n",
       "      <td>Elon Musk-led SpaceX is raising $500 million i...</td>\n",
       "    </tr>\n",
       "  </tbody>\n",
       "</table>\n",
       "</div>"
      ],
      "text/plain": [
       "                                               headlines  \\\n",
       "55937  Artist uses Louis Vuitton bags to make Star Wa...   \n",
       "83711  India-born professor named Dean of MIT School ...   \n",
       "79379  Murali picked up 800th Test wicket with career...   \n",
       "10506  French Prez's European army proposal 'very ins...   \n",
       "3549   Congress should treat us well before forming a...   \n",
       "63434  Ã¢ÂÂ¹125 crore transferred into Aus woman's a...   \n",
       "59488  N Korea sacks soldiers for failing to stop def...   \n",
       "51809  16 held over demonetised notes worth Ã¢ÂÂ¹100...   \n",
       "63367  China denies reports of plan to divert Brahmap...   \n",
       "5639   Musk's SpaceX raises $500 million at $30 billi...   \n",
       "\n",
       "                                                    text  \n",
       "55937  US-based artist and upcycler Gabriel Dishaw ha...  \n",
       "83711  Anantha P Chandrakasan, an India-born professo...  \n",
       "79379  Sri Lankan spin legend Muttiah Muralitharan be...  \n",
       "10506  US President Donald Trump has called French Pr...  \n",
       "3549   JD(S) supremo Deve Gowda has asked Congress to...  \n",
       "63434  An Australian woman found A$25 million (around...  \n",
       "59488  North Korea has reportedly sacked guards and f...  \n",
       "51809  Police have arrested 16 people in connection w...  \n",
       "63367  China on Tuesday rejected reports that it is p...  \n",
       "5639   Elon Musk-led SpaceX is raising $500 million i...  "
      ]
     },
     "execution_count": 4,
     "metadata": {},
     "output_type": "execute_result"
    }
   ],
   "source": [
    "data.sample(10)"
   ]
  },
  {
   "cell_type": "markdown",
   "id": "d1492676-ffd4-425b-8abe-09554fc08b28",
   "metadata": {},
   "source": [
    "## Step 2. 데이터 전처리하기 (추상적 요약)\n",
    "실습에서 사용된 전처리를 참고하여 각자 필요하다고 생각하는 전처리를 추가 사용하여 텍스트를 정규화 또는 정제해 보세요. 만약, 불용어 제거를 선택한다면 상대적으로 길이가 짧은 요약 데이터에 대해서도 불용어를 제거하는 것이 좋을지 고민해 보세요."
   ]
  },
  {
   "cell_type": "markdown",
   "id": "a7085c9e-02cf-4faa-9a73-9e628efbf836",
   "metadata": {},
   "source": [
    "### 중복 샘플과 NULL 값이 존재하는 샘플 제거"
   ]
  },
  {
   "cell_type": "code",
   "execution_count": 5,
   "id": "542bac7c-50d2-4fb1-a891-314f68b858d9",
   "metadata": {},
   "outputs": [
    {
     "name": "stdout",
     "output_type": "stream",
     "text": [
      "text 열에서 중복을 배제한 유일한 샘플의 수 : 98360\n",
      "headlines 열에서 중복을 배제한 유일한 샘플의 수 : 98280 \n",
      "\n",
      "전체 샘플수 : 98360 \n",
      "\n",
      "Null 존재하는지 \n",
      " headlines    0\n",
      "text         0\n",
      "dtype: int64 \n",
      "\n",
      "전체 샘플수 : 98360\n"
     ]
    }
   ],
   "source": [
    "print('text 열에서 중복을 배제한 유일한 샘플의 수 :', data['text'].nunique())\n",
    "print('headlines 열에서 중복을 배제한 유일한 샘플의 수 :', data['headlines'].nunique(), '\\n')\n",
    "\n",
    "# inplace=True 내부적으로 변경됨. 굳이 변수 선언 할 필요 없지만 사용에 주의\n",
    "# Text자체 중복일 경우 삭제. Summary는 중복 허용\n",
    "data.drop_duplicates(subset = ['text'], inplace=True)\n",
    "print('전체 샘플수 :', (len(data)), '\\n')\n",
    "\n",
    "# null 값이 있는지\n",
    "print(\"Null 존재하는지 \\n\", data.isnull().sum(), '\\n')\n",
    "\n",
    "# DF에서 NaN 값이 포함된 row을 제거 (axis=0 → 행 단위)\n",
    "data.dropna(axis=0, inplace=True)\n",
    "print('전체 샘플수 :', (len(data)))"
   ]
  },
  {
   "cell_type": "markdown",
   "id": "4e7696a3-46f6-4e89-a21c-5e3a723d0285",
   "metadata": {},
   "source": [
    "### 텍스트 정규화와 불용어 제거"
   ]
  },
  {
   "cell_type": "code",
   "execution_count": 6,
   "id": "a2410894-487f-451a-9307-0e4f7a678549",
   "metadata": {},
   "outputs": [],
   "source": [
    "contractions = {\"ain't\": \"is not\", \"aren't\": \"are not\",\"can't\": \"cannot\", \"'cause\": \"because\", \"could've\": \"could have\", \"couldn't\": \"could not\",\n",
    "                           \"didn't\": \"did not\",  \"doesn't\": \"does not\", \"don't\": \"do not\", \"hadn't\": \"had not\", \"hasn't\": \"has not\", \"haven't\": \"have not\",\n",
    "                           \"he'd\": \"he would\",\"he'll\": \"he will\", \"he's\": \"he is\", \"how'd\": \"how did\", \"how'd'y\": \"how do you\", \"how'll\": \"how will\", \"how's\": \"how is\",\n",
    "                           \"I'd\": \"I would\", \"I'd've\": \"I would have\", \"I'll\": \"I will\", \"I'll've\": \"I will have\",\"I'm\": \"I am\", \"I've\": \"I have\", \"i'd\": \"i would\",\n",
    "                           \"i'd've\": \"i would have\", \"i'll\": \"i will\",  \"i'll've\": \"i will have\",\"i'm\": \"i am\", \"i've\": \"i have\", \"isn't\": \"is not\", \"it'd\": \"it would\",\n",
    "                           \"it'd've\": \"it would have\", \"it'll\": \"it will\", \"it'll've\": \"it will have\",\"it's\": \"it is\", \"let's\": \"let us\", \"ma'am\": \"madam\",\n",
    "                           \"mayn't\": \"may not\", \"might've\": \"might have\",\"mightn't\": \"might not\",\"mightn't've\": \"might not have\", \"must've\": \"must have\",\n",
    "                           \"mustn't\": \"must not\", \"mustn't've\": \"must not have\", \"needn't\": \"need not\", \"needn't've\": \"need not have\",\"o'clock\": \"of the clock\",\n",
    "                           \"oughtn't\": \"ought not\", \"oughtn't've\": \"ought not have\", \"shan't\": \"shall not\", \"sha'n't\": \"shall not\", \"shan't've\": \"shall not have\",\n",
    "                           \"she'd\": \"she would\", \"she'd've\": \"she would have\", \"she'll\": \"she will\", \"she'll've\": \"she will have\", \"she's\": \"she is\",\n",
    "                           \"should've\": \"should have\", \"shouldn't\": \"should not\", \"shouldn't've\": \"should not have\", \"so've\": \"so have\",\"so's\": \"so as\",\n",
    "                           \"this's\": \"this is\",\"that'd\": \"that would\", \"that'd've\": \"that would have\", \"that's\": \"that is\", \"there'd\": \"there would\",\n",
    "                           \"there'd've\": \"there would have\", \"there's\": \"there is\", \"here's\": \"here is\",\"they'd\": \"they would\", \"they'd've\": \"they would have\",\n",
    "                           \"they'll\": \"they will\", \"they'll've\": \"they will have\", \"they're\": \"they are\", \"they've\": \"they have\", \"to've\": \"to have\",\n",
    "                           \"wasn't\": \"was not\", \"we'd\": \"we would\", \"we'd've\": \"we would have\", \"we'll\": \"we will\", \"we'll've\": \"we will have\", \"we're\": \"we are\",\n",
    "                           \"we've\": \"we have\", \"weren't\": \"were not\", \"what'll\": \"what will\", \"what'll've\": \"what will have\", \"what're\": \"what are\",\n",
    "                           \"what's\": \"what is\", \"what've\": \"what have\", \"when's\": \"when is\", \"when've\": \"when have\", \"where'd\": \"where did\", \"where's\": \"where is\",\n",
    "                           \"where've\": \"where have\", \"who'll\": \"who will\", \"who'll've\": \"who will have\", \"who's\": \"who is\", \"who've\": \"who have\",\n",
    "                           \"why's\": \"why is\", \"why've\": \"why have\", \"will've\": \"will have\", \"won't\": \"will not\", \"won't've\": \"will not have\",\n",
    "                           \"would've\": \"would have\", \"wouldn't\": \"would not\", \"wouldn't've\": \"would not have\", \"y'all\": \"you all\",\n",
    "                           \"y'all'd\": \"you all would\",\"y'all'd've\": \"you all would have\",\"y'all're\": \"you all are\",\"y'all've\": \"you all have\",\n",
    "                           \"you'd\": \"you would\", \"you'd've\": \"you would have\", \"you'll\": \"you will\", \"you'll've\": \"you will have\",\n",
    "                           \"you're\": \"you are\", \"you've\": \"you have\"}"
   ]
  },
  {
   "cell_type": "code",
   "execution_count": 7,
   "id": "1197162c-e3b7-4fda-bc96-cc196c054122",
   "metadata": {},
   "outputs": [
    {
     "name": "stdout",
     "output_type": "stream",
     "text": [
      "불용어 개수 : 198\n",
      "['a', 'about', 'above', 'after', 'again', 'against', 'ain', 'all', 'am', 'an', 'and', 'any', 'are', 'aren', \"aren't\", 'as', 'at', 'be', 'because', 'been', 'before', 'being', 'below', 'between', 'both', 'but', 'by', 'can', 'couldn', \"couldn't\", 'd', 'did', 'didn', \"didn't\", 'do', 'does', 'doesn', \"doesn't\", 'doing', 'don', \"don't\", 'down', 'during', 'each', 'few', 'for', 'from', 'further', 'had', 'hadn', \"hadn't\", 'has', 'hasn', \"hasn't\", 'have', 'haven', \"haven't\", 'having', 'he', \"he'd\", \"he'll\", 'her', 'here', 'hers', 'herself', \"he's\", 'him', 'himself', 'his', 'how', 'i', \"i'd\", 'if', \"i'll\", \"i'm\", 'in', 'into', 'is', 'isn', \"isn't\", 'it', \"it'd\", \"it'll\", \"it's\", 'its', 'itself', \"i've\", 'just', 'll', 'm', 'ma', 'me', 'mightn', \"mightn't\", 'more', 'most', 'mustn', \"mustn't\", 'my', 'myself', 'needn', \"needn't\", 'no', 'nor', 'not', 'now', 'o', 'of', 'off', 'on', 'once', 'only', 'or', 'other', 'our', 'ours', 'ourselves', 'out', 'over', 'own', 're', 's', 'same', 'shan', \"shan't\", 'she', \"she'd\", \"she'll\", \"she's\", 'should', 'shouldn', \"shouldn't\", \"should've\", 'so', 'some', 'such', 't', 'than', 'that', \"that'll\", 'the', 'their', 'theirs', 'them', 'themselves', 'then', 'there', 'these', 'they', \"they'd\", \"they'll\", \"they're\", \"they've\", 'this', 'those', 'through', 'to', 'too', 'under', 'until', 'up', 've', 'very', 'was', 'wasn', \"wasn't\", 'we', \"we'd\", \"we'll\", \"we're\", 'were', 'weren', \"weren't\", \"we've\", 'what', 'when', 'where', 'which', 'while', 'who', 'whom', 'why', 'will', 'with', 'won', \"won't\", 'wouldn', \"wouldn't\", 'y', 'you', \"you'd\", \"you'll\", 'your', \"you're\", 'yours', 'yourself', 'yourselves', \"you've\"]\n"
     ]
    }
   ],
   "source": [
    "# NLTK에서는 영어에 대한 불용어를 따로 제공함\n",
    "print('불용어 개수 :', len(stopwords.words('english') ))\n",
    "print(stopwords.words('english'))"
   ]
  },
  {
   "cell_type": "code",
   "execution_count": 8,
   "id": "2fbf0483-380a-4173-9b68-6680d4792d9b",
   "metadata": {},
   "outputs": [],
   "source": [
    "# 데이터 전처리 함수\n",
    "def preprocess_sentence(sentence, remove_stopwords=True):\n",
    "    sentence = sentence.lower() # 텍스트 소문자화\n",
    "    sentence = BeautifulSoup(sentence, \"lxml\").text # <br />, <a href = ...> 등의 html 태그 제거\n",
    "    sentence = re.sub(r'\\([^)]*\\)', '', sentence) # 괄호로 닫힌 문자열 (...) 제거 Ex) my husband (and myself!) for => my husband for\n",
    "    sentence = re.sub('\"','', sentence) # 쌍따옴표 \" 제거\n",
    "    sentence = ' '.join([contractions[t] if t in contractions else t for t in sentence.split(\" \")]) # 약어 정규화\n",
    "    sentence = re.sub(r\"'s\\b\",\"\", sentence) # 소유격 제거. Ex) roland's -> roland\n",
    "    sentence = re.sub(\"[^a-zA-Z]\", \" \", sentence) # 영어 외 문자(숫자, 특수문자 등) 공백으로 변환\n",
    "    sentence = re.sub('[m]{2,}', 'mm', sentence) # m이 3개 이상이면 2개로 변경. Ex) ummmmmmm yeah -> umm yeah\n",
    "\n",
    "    # 불용어 제거 (text)\n",
    "    if remove_stopwords:\n",
    "        tokens = ' '.join(word for word in sentence.split() if not word in stopwords.words('english') if len(word) > 1)\n",
    "    # 불용어 미제거 (headlines)\n",
    "    else:\n",
    "        tokens = ' '.join(word for word in sentence.split() if len(word) > 1)\n",
    "    return tokens"
   ]
  },
  {
   "cell_type": "code",
   "execution_count": 12,
   "id": "ff78a245-0126-4f6b-955e-afd064413c6a",
   "metadata": {},
   "outputs": [
    {
     "name": "stdout",
     "output_type": "stream",
     "text": [
      "Null 존재하는지 \n",
      " headlines    0\n",
      "text         0\n",
      "dtype: int64 \n",
      "\n",
      "전체 샘플수 : 98360\n"
     ]
    }
   ],
   "source": [
    "clean_text = []\n",
    "clean_summary = []\n",
    "\n",
    "for sentence in data['text']:\n",
    "    clean_text.append(preprocess_sentence(sentence))\n",
    "\n",
    "for sentence in data['headlines']:\n",
    "    clean_summary.append(preprocess_sentence(sentence, remove_stopwords=False))\n",
    "\n",
    "data['text'] = clean_text\n",
    "data['headlines'] = clean_summary\n",
    "\n",
    "# 빈 값을 Null 값으로 변환\n",
    "data.replace('', np.nan, inplace=True)\n",
    "\n",
    "# null 값이 있는지\n",
    "print(\"Null 존재하는지 \\n\", data.isnull().sum(), '\\n')\n",
    "\n",
    "data.dropna(axis=0, inplace=True)\n",
    "print('전체 샘플수 :', (len(data)))"
   ]
  },
  {
   "cell_type": "code",
   "execution_count": null,
   "id": "653ab6c9-9660-403c-9a31-c239521a4bdc",
   "metadata": {},
   "outputs": [],
   "source": []
  },
  {
   "cell_type": "markdown",
   "id": "5560c60d-ce62-4c97-8595-7c1c3b7eae7c",
   "metadata": {},
   "source": [
    "### 샘플의 최대 길이 정하기"
   ]
  },
  {
   "cell_type": "code",
   "execution_count": 13,
   "id": "9405df27-0783-4239-a2f9-ec0ffcb792b1",
   "metadata": {},
   "outputs": [
    {
     "name": "stdout",
     "output_type": "stream",
     "text": [
      "텍스트의 최소 길이 : 1\n",
      "텍스트의 최대 길이 : 60\n",
      "텍스트의 평균 길이 : 35.09968483123221\n",
      "텍스트의 표준편차 길이 : 3.7993861876499637\n",
      "요약의 최소 길이 : 1\n",
      "요약의 최대 길이 : 16\n",
      "요약의 평균 길이 : 9.299532330215534\n",
      "텍스트의 표준편차 길이 : 1.3900944321771693\n"
     ]
    },
    {
     "data": {
      "image/png": "[encoded data removed]",
      "text/plain": [
       "<Figure size 1000x1000 with 4 Axes>"
      ]
     },
     "metadata": {},
     "output_type": "display_data"
    }
   ],
   "source": [
    "# 길이 분포 출력\n",
    "import matplotlib.pyplot as plt\n",
    "\n",
    "text_len = [len(s.split()) for s in data['text']]\n",
    "summary_len = [len(s.split()) for s in data['headlines']]\n",
    "\n",
    "print('텍스트의 최소 길이 : {}'.format(np.min(text_len)))\n",
    "print('텍스트의 최대 길이 : {}'.format(np.max(text_len)))\n",
    "print('텍스트의 평균 길이 : {}'.format(np.mean(text_len)))\n",
    "print('텍스트의 표준편차 길이 : {}'.format(np.std(text_len)))\n",
    "print('요약의 최소 길이 : {}'.format(np.min(summary_len)))\n",
    "print('요약의 최대 길이 : {}'.format(np.max(summary_len)))\n",
    "print('요약의 평균 길이 : {}'.format(np.mean(summary_len)))\n",
    "print('텍스트의 표준편차 길이 : {}'.format(np.std(summary_len)))\n",
    "\n",
    "plt.figure(figsize=(10,10))\n",
    "\n",
    "plt.subplot(2,2,1)\n",
    "plt.boxplot(text_len)\n",
    "plt.title('text')\n",
    "plt.subplot(2,2,2)\n",
    "plt.boxplot(summary_len)\n",
    "plt.title('headlines')\n",
    "\n",
    "plt.subplot(2,2,3)\n",
    "plt.title('text')\n",
    "plt.hist(text_len, bins = 40)\n",
    "plt.xlabel('length of samples')\n",
    "plt.ylabel('number of samples')\n",
    "\n",
    "plt.subplot(2,2,4)\n",
    "plt.title('headlines')\n",
    "plt.hist(summary_len, bins = 40)\n",
    "plt.xlabel('length of samples')\n",
    "plt.ylabel('number of samples')\n",
    "\n",
    "plt.tight_layout()\n",
    "plt.show()"
   ]
  },
  {
   "cell_type": "code",
   "execution_count": 14,
   "id": "3ed9d6a4-e1ec-49ce-b38f-9b8025c42568",
   "metadata": {},
   "outputs": [
    {
     "name": "stdout",
     "output_type": "stream",
     "text": [
      "text 최대 길이 : 42\n",
      "summary 최대 길이 : 12\n"
     ]
    }
   ],
   "source": [
    "# 평균 + 표준편차 * 2 로 진행\n",
    "# 다만 우리가 다루는 차원의 길이가 소수점일수는 없으니 int로 과감히 자름\n",
    "# 정답이 없음\n",
    "text_max_len = int(np.mean(text_len) + np.std(text_len)*2)\n",
    "summary_max_len = int(np.mean(summary_len) + np.std(summary_len)*2)\n",
    "\n",
    "print(f'text 최대 길이 : {text_max_len}')\n",
    "print(f'summary 최대 길이 : {summary_max_len}')"
   ]
  },
  {
   "cell_type": "code",
   "execution_count": 15,
   "id": "eed56b47-81ce-4c38-bb83-95903bc5553c",
   "metadata": {},
   "outputs": [
    {
     "name": "stdout",
     "output_type": "stream",
     "text": [
      "전체 샘플 중 길이가 42 이하인 샘플의 비율: 0.9750305002033347\n",
      "전체 샘플 중 길이가 12 이하인 샘플의 비율: 0.9880337535583571\n"
     ]
    }
   ],
   "source": [
    "# 이 또한 정답이 없음\n",
    "def below_threshold_len(max_len, nested_list):\n",
    "    \"\"\"\n",
    "    최대길이로 자른 sample의 비율은 어떤지\n",
    "    \"\"\"\n",
    "    cnt = 0 \n",
    "    for s in nested_list:\n",
    "        if(len(s.split()) <= max_len):\n",
    "            cnt = cnt + 1\n",
    "    print('전체 샘플 중 길이가 %s 이하인 샘플의 비율: %s'%(max_len, (cnt / len(nested_list))))\n",
    "\n",
    "below_threshold_len(text_max_len, data['text'])\n",
    "below_threshold_len(summary_max_len, data['headlines'])"
   ]
  },
  {
   "cell_type": "code",
   "execution_count": 16,
   "id": "a6548359-0448-4b99-9ca5-97c50ade83dc",
   "metadata": {},
   "outputs": [
    {
     "name": "stdout",
     "output_type": "stream",
     "text": [
      "전체 샘플수 : 94754\n"
     ]
    }
   ],
   "source": [
    "# 해당 실습에서는 최대길이로 자르는 것이 아니라\n",
    "# 최대길이보다 긴건 제거하는 방식으로 진행\n",
    "data = data[data.text.apply(lambda x: len(x.split()) <= text_max_len)]\n",
    "data = data[data.headlines.apply(lambda x: len(x.split()) <= summary_max_len)]\n",
    "\n",
    "print('전체 샘플수 :', (len(data)))"
   ]
  },
  {
   "cell_type": "markdown",
   "id": "24f80951-e933-4b71-8cb0-3d5ec8fe791c",
   "metadata": {},
   "source": [
    "### 시작 토큰과 종료 토큰 추가하기"
   ]
  },
  {
   "cell_type": "code",
   "execution_count": 17,
   "id": "2e282368-b9a2-4c54-9ad7-ce951ae23004",
   "metadata": {},
   "outputs": [],
   "source": [
    "data['decoder_input'] = data.headlines.apply(lambda x: \"sostoken \" + x)\n",
    "data['decoder_target'] = data.headlines.apply(lambda x: x + \" eostoken\")"
   ]
  },
  {
   "cell_type": "markdown",
   "id": "e81f9f71-2526-455f-aa4e-a4d943072034",
   "metadata": {},
   "source": [
    "### Sample 나누기"
   ]
  },
  {
   "cell_type": "code",
   "execution_count": 18,
   "id": "581cba5f-6cd9-437c-8634-69d50a8145fb",
   "metadata": {},
   "outputs": [
    {
     "name": "stdout",
     "output_type": "stream",
     "text": [
      "테스트 데이터의 수 세보기 : 18950 \n",
      "\n",
      "훈련 데이터의 개수 : 75804\n",
      "훈련 레이블의 개수 : 75804\n",
      "테스트 데이터의 개수 : 18950\n",
      "테스트 레이블의 개수 : 18950\n"
     ]
    }
   ],
   "source": [
    "# 우선 DF에서 꺼내오기\n",
    "encoder_input = np.array(data.text) # 인코더의 입력\n",
    "decoder_input = np.array(data.decoder_input) # 디코더의 입력\n",
    "decoder_target = np.array(data.decoder_target) # 디코더의 레이블\n",
    "\n",
    "# train과 test를 나누기 위한 index 랜덤 지정 후 섞기\n",
    "indices = np.arange(encoder_input.shape[0])\n",
    "np.random.shuffle(indices)\n",
    "\n",
    "encoder_input = encoder_input[indices]\n",
    "decoder_input = decoder_input[indices]\n",
    "decoder_target = decoder_target[indices]\n",
    "\n",
    "# 나누기 \n",
    "n_of_val = int(len(encoder_input)*0.2)\n",
    "print('테스트 데이터의 수 세보기 :', n_of_val, '\\n')\n",
    "\n",
    "encoder_input_train = encoder_input[:-n_of_val]\n",
    "decoder_input_train = decoder_input[:-n_of_val]\n",
    "decoder_target_train = decoder_target[:-n_of_val]\n",
    "\n",
    "encoder_input_test = encoder_input[-n_of_val:]\n",
    "decoder_input_test = decoder_input[-n_of_val:]\n",
    "decoder_target_test = decoder_target[-n_of_val:]\n",
    "\n",
    "print('훈련 데이터의 개수 :', len(encoder_input_train))\n",
    "print('훈련 레이블의 개수 :', len(decoder_input_train))\n",
    "print('테스트 데이터의 개수 :', len(encoder_input_test))\n",
    "print('테스트 레이블의 개수 :', len(decoder_input_test))"
   ]
  },
  {
   "cell_type": "markdown",
   "id": "fbbb7586-f0d4-4ec2-bf77-54c980008416",
   "metadata": {},
   "source": [
    "### Vocabulary 만들기 및 정수 인코딩"
   ]
  },
  {
   "cell_type": "code",
   "execution_count": 19,
   "id": "df21f4d5-088f-45de-9a3f-59f9c379bcb6",
   "metadata": {},
   "outputs": [],
   "source": [
    "# 정수 인코딩 하기전에 우선 Voca 만들기\n",
    "def tokenizer(text): \n",
    "    text = text.lower()  # 소문자로 변환\n",
    "    text = re.sub(r\"[^a-zA-Z0-9]+\", \" \", text)  # 특수문자 제거\n",
    "    return text.split()  # 공백 기준 토큰화\n",
    "\n",
    "def build_vocab(texts):\n",
    "    vocab = {\"<PAD>\": 0, \"<UNK>\": 1}  # 패딩과 UNK 토큰 추가\n",
    "    word_counter = Counter()\n",
    "\n",
    "    for text in texts:\n",
    "        word_counter.update(tokenizer(text))  # 단어 빈도수 계산\n",
    "\n",
    "    # 단어 집합 생성 (빈도가 높은 순서대로)\n",
    "    for word, _ in word_counter.most_common():\n",
    "        if word not in vocab:\n",
    "            vocab[word] = len(vocab)\n",
    "\n",
    "    return vocab\n",
    "\n",
    "src_vocab = build_vocab(encoder_input_train) # 입력된 데이터로부터 단어 집합 생성\n",
    "tar_vocab = build_vocab(decoder_input_train)"
   ]
  },
  {
   "cell_type": "code",
   "execution_count": 21,
   "id": "cf6f3246-2dd1-4f15-906b-1addd3419b94",
   "metadata": {},
   "outputs": [
    {
     "name": "stdout",
     "output_type": "stream",
     "text": [
      "단어 집합(vocabulary)의 크기 : 74402\n",
      "등장 빈도가 5번 이하인 희귀 단어의 수: 48472\n",
      "단어 집합에서 희귀 단어를 제외시킬 경우의 단어 집합의 크기 25930\n",
      "단어 집합에서 희귀 단어의 비율: 65.14878632294831\n",
      "전체 등장 빈도에서 희귀 단어 등장 빈도 비율: 2.7379926893670867 \n",
      "\n",
      "단어 집합(vocabulary)의 크기 : 29628\n",
      "등장 빈도가 5번 이하인 희귀 단어의 수: 19415\n",
      "단어 집합에서 희귀 단어를 제외시킬 경우의 단어 집합의 크기 10213\n",
      "단어 집합에서 희귀 단어의 비율: 65.52922910760091\n",
      "전체 등장 빈도에서 희귀 단어 등장 빈도 비율: 4.779632227097837 \n",
      "\n"
     ]
    }
   ],
   "source": [
    "def k_rare_token(k, input_text):\n",
    "    # 등장을 적게하는 희소한 token들은 제거하려고 한다.\n",
    "    # threshold를 k번 미만으로 나온거는 제거한다. -> <UNK>가 되어버임\n",
    "    threshold = k \n",
    "    \n",
    "    # 단어 빈도수 계산\n",
    "    word_counter = Counter()\n",
    "    for text in input_text:\n",
    "        word_counter.update(text.split())\n",
    "    \n",
    "    total_cnt = len(word_counter)  # 전체 단어 개수\n",
    "    total_freq = sum(word_counter.values())  # 전체 단어 등장 횟수\n",
    "    rare_cnt = sum(1 for count in word_counter.values() if count < threshold)  # 희귀 단어 개수\n",
    "    rare_freq = sum(count for count in word_counter.values() if count < threshold)  # 희귀 단어 등장 횟수\n",
    "    \n",
    "    # 희귀 단어를 제외한 단어 사전 구축\n",
    "    vocab = {\"<PAD>\": 0, \"<UNK>\": 1}  # 패딩 및 미등록 단어 추가\n",
    "    word_index = {word: idx + 2 for idx, (word, count) in enumerate(word_counter.items()) if count >= threshold}\n",
    "    \n",
    "    print('단어 집합(vocabulary)의 크기 :', total_cnt)\n",
    "    print('등장 빈도가 %s번 이하인 희귀 단어의 수: %s'%(threshold - 1, rare_cnt))\n",
    "    print('단어 집합에서 희귀 단어를 제외시킬 경우의 단어 집합의 크기 %s'%(total_cnt - rare_cnt))\n",
    "    print(\"단어 집합에서 희귀 단어의 비율:\", (rare_cnt / total_cnt)*100)\n",
    "    print(\"전체 등장 빈도에서 희귀 단어 등장 빈도 비율:\", (rare_freq / total_freq)*100, '\\n')\n",
    "\n",
    "k_rare_token(6, data.text) # 난 5번 이하로 나온 것을 제거할 거다. - Text input에 대해 알아보기\n",
    "k_rare_token(6, decoder_input_train) # 난 5번 이하로 나온 것을 제거할 거다. - Summary input에 대해 알아보기"
   ]
  },
  {
   "cell_type": "code",
   "execution_count": 22,
   "id": "2d6a5e73-ec4e-447d-b4c0-52a7cddcefb4",
   "metadata": {},
   "outputs": [],
   "source": [
    "def build_limited_vocab(texts, vocab_size, tokenizer=tokenizer):\n",
    "    vocab = {\"<PAD>\": 0, \"<UNK>\": 1}  # 패딩과 UNK 토큰 추가\n",
    "    word_counter = Counter()\n",
    "\n",
    "    for text in texts:\n",
    "        word_counter.update(tokenizer(text))  # 단어 빈도수 계산\n",
    "\n",
    "    # 빈도가 높은 상위 vocab_size - 2개 단어만 선택 (PAD, UNK 포함)\n",
    "    for word, _ in word_counter.most_common(vocab_size - 2):\n",
    "        vocab[word] = len(vocab)\n",
    "\n",
    "    return vocab\n",
    "\n",
    "# 대략 난 13000으로 두겠다 - 희귀 단어를 제외시킬 경우의 단어 집합의 크기 기준\n",
    "src_vocab_size = 25000\n",
    "src_vocab = build_limited_vocab(encoder_input_train, src_vocab_size)\n",
    "\n",
    "tar_vocab_size = 10000\n",
    "tar_vocab = build_limited_vocab(decoder_input_train + decoder_target_train, tar_vocab_size)"
   ]
  },
  {
   "cell_type": "code",
   "execution_count": 23,
   "id": "03366510-8002-449a-8ed9-04fdfa899c40",
   "metadata": {},
   "outputs": [
    {
     "name": "stdout",
     "output_type": "stream",
     "text": [
      "Encoder(text)\n",
      "input [[352, 17, 1730, 1217, 1577, 475, 5529, 359, 16, 1, 1, 87, 368, 917, 3506, 5217, 4777, 4870, 7374, 3955, 224, 2, 1217, 2962, 475, 600, 2963, 1, 1217, 484, 2574, 154, 433, 673, 4777, 79, 673, 3213, 1059, 1039], [348, 40, 708, 1349, 742, 6035, 117, 16275, 24, 29, 1125, 769, 1144, 54, 151, 463, 537, 63, 117, 332, 54, 151, 463, 485, 609, 16275, 2575, 742, 2274, 369, 15610, 677, 4283, 717], [4458, 9977, 1, 711, 6883, 3703, 5063, 49, 5776, 7803, 96, 4398, 821, 7, 1600, 10687, 2902, 5705, 585, 9978, 49, 1510, 615, 299, 4828, 908, 489, 205, 2426, 3723, 644]] \n",
      "\n",
      "decoder(headlines)\n",
      "input  [[3, 2, 689, 5, 920, 6652, 767, 255, 142, 704, 4620], [3, 2, 815, 1873, 3307, 89, 1, 5, 723, 159, 67], [3, 2, 3853, 7958, 748, 6653, 7, 1, 128, 9, 434, 959]]\n",
      "target  [[689, 5, 920, 6652, 767, 255, 142, 704, 4620, 4, 2], [815, 1873, 3307, 89, 1, 5, 723, 159, 67, 4, 2], [3853, 7958, 748, 6653, 7, 1, 128, 9, 434, 959, 4, 2]]\n"
     ]
    }
   ],
   "source": [
    "# 그럼 우리가 가진 데이터에서 Voca에 존재하지 않는 것은 이제 <UNK> 처리한다\n",
    "def text_to_sequence(texts, vocab, tokenizer=tokenizer):\n",
    "    sequences = []\n",
    "    for text in texts:\n",
    "        sequence = [vocab.get(word, vocab[\"<UNK>\"]) for word in tokenizer(text)]\n",
    "        sequences.append(sequence)\n",
    "    return sequences\n",
    "\n",
    "# 텍스트 데이터 정수 시퀀스로 변환\n",
    "encoder_input_train_seq = text_to_sequence(encoder_input_train, src_vocab)\n",
    "encoder_input_test_seq = text_to_sequence(encoder_input_test, src_vocab)\n",
    "\n",
    "# 잘 진행되었는지 샘플 출력\n",
    "print('Encoder(text)')\n",
    "print('input', encoder_input_train_seq[:3], '\\n')\n",
    "\n",
    "# 텍스트 시퀀스를 정수 시퀀스로 변환\n",
    "decoder_input_train_seq = text_to_sequence(decoder_input_train, tar_vocab)\n",
    "decoder_target_train_seq = text_to_sequence(decoder_target_train, tar_vocab)\n",
    "decoder_input_test_seq = text_to_sequence(decoder_input_test, tar_vocab)\n",
    "decoder_target_test_seq = text_to_sequence(decoder_target_test, tar_vocab)\n",
    "\n",
    "# 잘 변환되었는지 확인\n",
    "print('decoder(headlines)')\n",
    "print('input ',decoder_input_train_seq[:3])\n",
    "print('target ',decoder_target_train_seq[:3])"
   ]
  },
  {
   "cell_type": "code",
   "execution_count": 24,
   "id": "fd4df8cc-91a6-4e98-ba23-189f12a8ba24",
   "metadata": {},
   "outputs": [
    {
     "name": "stdout",
     "output_type": "stream",
     "text": [
      "삭제할 훈련 데이터의 개수 : 0\n",
      "삭제할 테스트 데이터의 개수 : 0 \n",
      "\n",
      "훈련 데이터의 개수 : 75804\n",
      "훈련 레이블의 개수 : 75804\n",
      "테스트 데이터의 개수 : 18950\n",
      "테스트 레이블의 개수 : 18950\n"
     ]
    }
   ],
   "source": [
    "# 혹여나 빈도 낮은 단어 제거하던 중에 sample이 empty해졌을수 있다.\n",
    "# Summary부분인 decoder 부분이 특히 짧았기에, 그럴 가능성이 커보인다.\n",
    "# decoder 부분은 시작이나 끝 token이 들어있기에, 길이가 1인 것은 사실상 비어있다고 봐야한다.\n",
    "\n",
    "def get_drop_index(data_list, min_len=2):\n",
    "    \"\"\"문장 길이가 min_len 미만인 인덱스 목록 반환\"\"\"\n",
    "    return [i for i, s in enumerate(data_list) if len(s) < min_len]\n",
    "\n",
    "drop_train = get_drop_index(decoder_input_train)\n",
    "drop_test = get_drop_index(decoder_input_test)\n",
    "\n",
    "print('삭제할 훈련 데이터의 개수 :', len(drop_train))\n",
    "print('삭제할 테스트 데이터의 개수 :', len(drop_test),'\\n')\n",
    "\n",
    "def drop_by_index(data_list, drop_idx):\n",
    "    \"\"\"drop_idx에 포함된 인덱스를 제외한 새 리스트 반환\"\"\"\n",
    "    return [s for i, s in enumerate(data_list) if i not in drop_idx]\n",
    "    \n",
    "encoder_input_train = drop_by_index(encoder_input_train, drop_train)\n",
    "decoder_input_train = drop_by_index(decoder_input_train, drop_train)\n",
    "decoder_target_train = drop_by_index(decoder_target_train, drop_train)\n",
    "\n",
    "encoder_input_test = drop_by_index(encoder_input_test, drop_test)\n",
    "decoder_input_test = drop_by_index(decoder_input_test, drop_test)\n",
    "decoder_target_test = drop_by_index(decoder_target_test, drop_test)\n",
    "\n",
    "print('훈련 데이터의 개수 :', len(encoder_input_train))\n",
    "print('훈련 레이블의 개수 :', len(decoder_input_train))\n",
    "print('테스트 데이터의 개수 :', len(encoder_input_test))\n",
    "print('테스트 레이블의 개수 :', len(decoder_input_test))\n",
    "\n",
    "# 다행이 존재하진 않았다."
   ]
  },
  {
   "cell_type": "markdown",
   "id": "ab82ff52-0a2e-4a7c-b8a8-e88382aaf4c8",
   "metadata": {},
   "source": [
    "### Padding 하기"
   ]
  },
  {
   "cell_type": "code",
   "execution_count": 25,
   "id": "ac4089f0-73b7-4993-85b1-da0edc65708f",
   "metadata": {},
   "outputs": [],
   "source": [
    "from torch.nn.utils.rnn import pad_sequence\n",
    "\n",
    "# 텐서 변환 함수 (리스트 → PyTorch 텐서)\n",
    "def convert_to_tensor(sequences):\n",
    "    return [torch.tensor(seq, dtype=torch.long) for seq in sequences]\n",
    "\n",
    "# 패딩 적용 함수 (PyTorch `pad_sequence()` 활용)\n",
    "def pad_sequences_pytorch(sequences, maxlen, padding_value=0, padding_side='left'):\n",
    "    sequences = convert_to_tensor(sequences)  # 리스트를 텐서로 변환\n",
    "    padded_seqs = pad_sequence(sequences, batch_first=True, padding_value=padding_value,padding_side=padding_side)  # 패딩 적용\n",
    "    return padded_seqs[:, :maxlen]  # maxlen 길이로 자르기 (최대 길이 초과 방지)\n",
    "\n",
    "# 패딩 적용\n",
    "encoder_input_train = pad_sequences_pytorch(encoder_input_train_seq, maxlen=text_max_len)\n",
    "encoder_input_test = pad_sequences_pytorch(encoder_input_test_seq, maxlen=text_max_len)\n",
    "decoder_input_train = pad_sequences_pytorch(decoder_input_train_seq, maxlen=summary_max_len)\n",
    "decoder_target_train = pad_sequences_pytorch(decoder_target_train_seq, maxlen=summary_max_len)\n",
    "decoder_input_test = pad_sequences_pytorch(decoder_input_test_seq, maxlen=summary_max_len)\n",
    "decoder_target_test = pad_sequences_pytorch(decoder_target_test_seq, maxlen=summary_max_len)\n"
   ]
  },
  {
   "cell_type": "markdown",
   "id": "d05b1e31-8a99-46d3-9107-ad0889b8db2c",
   "metadata": {},
   "source": [
    "## Step 3. 어텐션 메커니즘 사용하기 (추상적 요약)\n",
    "일반적인 seq2seq보다는 어텐션 메커니즘을 사용한 seq2seq를 사용하는 것이 더 나은 성능을 얻을 수 있어요. 실습 내용을 참고하여 어텐션 메커니즘을 사용한 seq2seq를 설계해 보세요."
   ]
  },
  {
   "cell_type": "markdown",
   "id": "6d3b70b7-a9e3-45fe-9ad8-8af748bfb799",
   "metadata": {},
   "source": [
    "### Modeling"
   ]
  },
  {
   "cell_type": "code",
   "execution_count": 26,
   "id": "7aa79bf5-b1ad-4315-b80f-1f83c70672d1",
   "metadata": {},
   "outputs": [],
   "source": [
    "import torch.nn as nn\n",
    "import torch.nn.functional as F\n",
    "\n",
    "# 인코더 설계 시작\n",
    "embedding_dim = 128\n",
    "hidden_size = 256\n",
    "\n",
    "# 인코더\n",
    "class Encoder(nn.Module):\n",
    "    def __init__(self, vocab_size, embedding_dim, hidden_size, num_layers=3, dropout=0.4):\n",
    "        super(Encoder, self).__init__()\n",
    "        self.embedding = nn.Embedding(vocab_size, embedding_dim)\n",
    "        self.lstm = nn.LSTM(\n",
    "            embedding_dim, hidden_size, num_layers=num_layers,\n",
    "            dropout=dropout, batch_first=True\n",
    "        )\n",
    "\n",
    "    def forward(self, x): # 인코더의 임베딩 층\n",
    "        embedded = self.embedding(x)\n",
    "        output, (hidden, cell) = self.lstm(embedded)  # LSTM 실행\n",
    "        return output, hidden, cell\n",
    "\n",
    "# 인코더 모델 생성\n",
    "encoder = Encoder(src_vocab_size, embedding_dim, hidden_size, num_layers=3, dropout=0.4)"
   ]
  },
  {
   "cell_type": "code",
   "execution_count": 27,
   "id": "7d8281b2-9764-4a66-b8ae-38d0f4ec41b1",
   "metadata": {},
   "outputs": [],
   "source": [
    "# 디코더 설계\n",
    "class Decoder(nn.Module):\n",
    "    def __init__(self, vocab_size, embedding_dim, hidden_size, dropout=0.4, num_layers=3):\n",
    "        super(Decoder, self).__init__()\n",
    "        self.embedding = nn.Embedding(vocab_size, embedding_dim)\n",
    "        self.lstm = nn.LSTM(\n",
    "            embedding_dim, hidden_size, num_layers=num_layers, dropout=dropout,\n",
    "            batch_first=True\n",
    "        )\n",
    "\n",
    "    def forward(self, x, hidden, cell): # 디코더의 임베딩 층\n",
    "        embedded = self.embedding(x)\n",
    "        output, (hidden, cell) = self.lstm(embedded, (hidden, cell))  # 초기 상태를 인코더에서 전달받음\n",
    "        return output, hidden, cell\n",
    "\n",
    "# 디코더 모델 생성\n",
    "decoder = Decoder(tar_vocab_size, embedding_dim, hidden_size, num_layers=3, dropout=0.4)"
   ]
  },
  {
   "cell_type": "code",
   "execution_count": 28,
   "id": "c54db7d0-256e-42e1-95db-af01363004ee",
   "metadata": {},
   "outputs": [
    {
     "name": "stdout",
     "output_type": "stream",
     "text": [
      "Seq2Seq(\n",
      "  (encoder): Encoder(\n",
      "    (embedding): Embedding(25000, 128)\n",
      "    (lstm): LSTM(128, 256, num_layers=3, batch_first=True, dropout=0.4)\n",
      "  )\n",
      "  (decoder): Decoder(\n",
      "    (embedding): Embedding(10000, 128)\n",
      "    (lstm): LSTM(128, 256, num_layers=3, batch_first=True, dropout=0.4)\n",
      "  )\n",
      "  (softmax_layer): Linear(in_features=256, out_features=10000, bias=True)\n",
      ")\n"
     ]
    }
   ],
   "source": [
    "# 디코더의 출력층\n",
    "class Seq2Seq(nn.Module):\n",
    "    def __init__(self, encoder, decoder, vocab_size):\n",
    "        super(Seq2Seq, self).__init__()\n",
    "        self.encoder = encoder\n",
    "        self.decoder = decoder\n",
    "        self.softmax_layer = nn.Linear(hidden_size, vocab_size)  # 출력층 정의\n",
    "\n",
    "    def forward(self, encoder_input, decoder_input):\n",
    "        # 인코더 실행\n",
    "        encoder_output, hidden, cell = self.encoder(encoder_input)\n",
    "\n",
    "        # 디코더 실행\n",
    "        decoder_output, _, _ = self.decoder(decoder_input, hidden, cell)\n",
    "\n",
    "        # 출력층 적용 (Softmax는 Loss 내부에서 적용되므로 생략 가능)\n",
    "        output = self.softmax_layer(decoder_output)\n",
    "        return output\n",
    "\n",
    "# 모델 정의\n",
    "model = Seq2Seq(encoder, decoder, tar_vocab_size)\n",
    "print(model)"
   ]
  },
  {
   "cell_type": "code",
   "execution_count": 29,
   "id": "02d07a17-8af9-4c90-a4b1-d025f85a31a3",
   "metadata": {},
   "outputs": [
    {
     "name": "stdout",
     "output_type": "stream",
     "text": [
      "Seq2SeqWithAttention(\n",
      "  (encoder): Encoder(\n",
      "    (embedding): Embedding(25000, 128)\n",
      "    (lstm): LSTM(128, 256, num_layers=3, batch_first=True, dropout=0.4)\n",
      "  )\n",
      "  (decoder): Decoder(\n",
      "    (embedding): Embedding(10000, 128)\n",
      "    (lstm): LSTM(128, 256, num_layers=3, batch_first=True, dropout=0.4)\n",
      "  )\n",
      "  (attention): Attention_dot(\n",
      "    (attn): Linear(in_features=256, out_features=256, bias=True)\n",
      "    (v): Linear(in_features=256, out_features=1, bias=False)\n",
      "  )\n",
      "  (concat): Linear(in_features=512, out_features=256, bias=True)\n",
      "  (output_layer): Linear(in_features=256, out_features=10000, bias=True)\n",
      ")\n"
     ]
    }
   ],
   "source": [
    "class Attention_dot(nn.Module):\n",
    "    def __init__(self, hidden_size):\n",
    "        super(Attention_dot, self).__init__()\n",
    "        self.attn = nn.Linear(hidden_size, hidden_size)  # decoder hidden -> encoder hidden 차원 매핑 (optional) - 어텐션 가중치\n",
    "        self.v = nn.Linear(hidden_size, 1, bias=False)  # 어텐션 스코어 계산용 가중치 벡터\n",
    "\n",
    "    def forward(self, decoder_output, encoder_outputs):\n",
    "        # decoder hidden과 encoder outputs 간 dot-product로 스코어 계산\n",
    "        attn_weights = torch.bmm(decoder_output, encoder_outputs.transpose(1, 2))\n",
    "        \n",
    "        # softmax로 가중치 정규화 (합=1)\n",
    "        attn_weights = F.softmax(attn_weights, dim=-1)\n",
    "        \n",
    "        # 가중합하여 context 벡터 생성\n",
    "        attn_out = torch.bmm(attn_weights, encoder_outputs)\n",
    "\n",
    "        return attn_out  # context vector 반환\n",
    "\n",
    "\n",
    "class Seq2SeqWithAttention(nn.Module):\n",
    "    def __init__(self, encoder, decoder, vocab_size, hidden_size):\n",
    "        super(Seq2SeqWithAttention, self).__init__()\n",
    "        self.encoder = encoder\n",
    "        self.decoder = decoder\n",
    "        self.attention = Attention_dot(hidden_size)\n",
    "        self.concat = nn.Linear(hidden_size * 2, hidden_size)  # 어텐션 결합\n",
    "        self.output_layer = nn.Linear(hidden_size, vocab_size)  # 최종 출력층\n",
    "\n",
    "    def forward(self, encoder_input, decoder_input):\n",
    "        encoder_outputs, hidden, cell = self.encoder(encoder_input)\n",
    "        decoder_outputs, _, _ = self.decoder(decoder_input, hidden, cell)\n",
    "\n",
    "        # 어텐션 적용\n",
    "        attn_out = self.attention(decoder_outputs, encoder_outputs) # context 계산\n",
    "\n",
    "        # 어텐션 결과와 디코더 출력 연결\n",
    "        decoder_concat_output = torch.cat((decoder_outputs, attn_out), dim=-1)\n",
    "\n",
    "        # 어텐션 결합 후 최종 출력\n",
    "        decoder_concat_output = torch.tanh(self.concat(decoder_concat_output))\n",
    "        output = self.output_layer(decoder_concat_output)\n",
    "\n",
    "        return output\n",
    "\n",
    "# 모델 생성\n",
    "model = Seq2SeqWithAttention(encoder, decoder, tar_vocab_size, hidden_size)\n",
    "print(model)"
   ]
  },
  {
   "cell_type": "markdown",
   "id": "bac939de-fec9-4698-bd97-1c7c92ab3e20",
   "metadata": {},
   "source": [
    "### Model train"
   ]
  },
  {
   "cell_type": "code",
   "execution_count": 30,
   "id": "df977040-4fa3-4929-b661-ed276f6cad9a",
   "metadata": {},
   "outputs": [
    {
     "name": "stdout",
     "output_type": "stream",
     "text": [
      "Using device: cuda\n"
     ]
    }
   ],
   "source": [
    "import torch.optim as optim\n",
    "from torch.utils.data import DataLoader, TensorDataset\n",
    "\n",
    "device = torch.device(\"cuda\" if torch.cuda.is_available() else \"cpu\")\n",
    "print(f\"Using device: {device}\")\n",
    "model.to(device)\n",
    "\n",
    "# Hyperparameters\n",
    "batch_size = 256\n",
    "epochs = 50\n",
    "learning_rate = 0.001\n",
    "patience = 3 # EarlyStopping에서 2번 반복되면 모델 멈추기\n",
    "\n",
    "# 손실 함수 & 옵티마이저\n",
    "criterion = nn.CrossEntropyLoss(ignore_index=0)  # 패딩 토큰 무시\n",
    "optimizer = optim.AdamW(model.parameters(), lr=learning_rate)\n",
    "\n",
    "# PyTorch DataLoader 설정\n",
    "train_dataset = TensorDataset(encoder_input_train, decoder_input_train, decoder_target_train)\n",
    "test_dataset = TensorDataset(encoder_input_test, decoder_input_test, decoder_target_test)\n",
    "\n",
    "train_loader = DataLoader(train_dataset, batch_size=batch_size, shuffle=True)\n",
    "test_loader = DataLoader(test_dataset, batch_size=batch_size, shuffle=False)"
   ]
  },
  {
   "cell_type": "code",
   "execution_count": 34,
   "id": "66dcc6ca-9486-4723-8413-759dde4b965b",
   "metadata": {},
   "outputs": [],
   "source": [
    "# EarlyStopping에 callback 함수 추가하여, class로 진행\n",
    "\n",
    "class EarlyStopping:\n",
    "    \"\"\"EarlyStopping 콜백을 구현합니다.\"\"\"\n",
    "    def __init__(self, patience=2, verbose=True, path='best_model.pth'):\n",
    "        \"\"\"\n",
    "        Args:\n",
    "            patience (int): 검증 손실(val_loss)이 몇 epoch 동안 개선되지 않으면 학습을 중단할지 설정합니다.\n",
    "            verbose (bool): 조기 중단 및 모델 저장 시 메시지를 출력할지 여부.\n",
    "            path (str): 가장 좋은 성능의 모델 가중치를 저장할 경로.\n",
    "        \"\"\"\n",
    "        self.patience = patience\n",
    "        self.verbose = verbose\n",
    "        self.path = path\n",
    "        \n",
    "        self.counter = 0  # patience를 카운트하는 변수\n",
    "        self.best_score = np.inf  # 가장 좋았던 val_loss를 저장 (낮을수록 좋음)\n",
    "        self.early_stop = False # 조기 중단 플래그\n",
    "\n",
    "    def __call__(self, val_loss, model):\n",
    "        \"\"\"\n",
    "        매 epoch이 끝날 때마다 호출되어 val_loss를 모니터링합니다.\n",
    "        \"\"\"\n",
    "        # 현재 val_loss가 best_score보다 좋으면\n",
    "        if val_loss < self.best_score:\n",
    "            self.save_checkpoint(val_loss, model) # 모델 저장\n",
    "            self.best_score = val_loss\n",
    "            self.counter = 0 # 카운터 초기화\n",
    "        # val_loss가 개선되지 않으면\n",
    "        else:\n",
    "            self.counter += 1\n",
    "            if self.verbose:\n",
    "                print(f'EarlyStopping counter: {self.counter} out of {self.patience}')\n",
    "            if self.counter >= self.patience:\n",
    "                self.early_stop = True # 조기 중단 플래그 설정\n",
    "\n",
    "    def save_checkpoint(self, val_loss, model):\n",
    "        \"\"\"val_loss가 개선되었을 때 모델의 state_dict를 저장합니다.\"\"\"\n",
    "        if self.verbose:\n",
    "            print(f'Validation loss decreased ({self.best_score:.6f} --> {val_loss:.6f}). Saving model to {self.path} ...')\n",
    "        torch.save(model.state_dict(), self.path)"
   ]
  },
  {
   "cell_type": "code",
   "execution_count": 32,
   "id": "b7eef318-dc8f-445f-ba41-82089f5a2bb4",
   "metadata": {},
   "outputs": [],
   "source": [
    "# 학습 함수 (EarlyStopping 콜백 적용)\n",
    "def train_model(model, train_loader, test_loader, criterion, optimizer, epochs, patience):\n",
    "    \n",
    "    # 1. EarlyStopping 콜백 객체 생성\n",
    "    #    patience는 함수의 인자를 사용하고, 저장 경로는 'best_model.pth'로 지정\n",
    "    early_stopper = EarlyStopping(patience=patience, verbose=True, path='News_Summary/model/best_model.pth')\n",
    "    \n",
    "    for epoch in range(epochs):\n",
    "        model.train() # (!!!) 매 epoch 시작 시 model.train()을 호출하는 것이 좋습니다.\n",
    "        total_loss = 0\n",
    "\n",
    "        for encoder_input, decoder_input, target in train_loader:\n",
    "            optimizer.zero_grad()\n",
    "\n",
    "            encoder_input = encoder_input.to(device).long()\n",
    "            decoder_input = decoder_input.to(device).long()\n",
    "            target = target.to(device).long()\n",
    "\n",
    "            output = model(encoder_input, decoder_input)\n",
    "            output = output.view(-1, output.shape[-1])\n",
    "            target = target.view(-1)\n",
    "\n",
    "            loss = criterion(output, target)\n",
    "            loss.backward()\n",
    "            optimizer.step()\n",
    "            total_loss += loss.item()\n",
    "\n",
    "        avg_loss = total_loss / len(train_loader)\n",
    "        train_losses.append(avg_loss)\n",
    "\n",
    "        # Validation loss 계산\n",
    "        model.eval()\n",
    "        val_loss = 0\n",
    "        with torch.no_grad():\n",
    "            for encoder_input, decoder_input, target in test_loader:\n",
    "                encoder_input = encoder_input.to(device).long()\n",
    "                decoder_input = decoder_input.to(device).long()\n",
    "                target = target.to(device).long()\n",
    "\n",
    "                output = model(encoder_input, decoder_input)\n",
    "                output = output.view(-1, output.shape[-1])\n",
    "                target = target.view(-1)\n",
    "                loss = criterion(output, target)\n",
    "                val_loss += loss.item()\n",
    "\n",
    "        val_loss /= len(test_loader)\n",
    "        val_losses.append(val_loss)\n",
    "        print(f\"Epoch {epoch+1}/{epochs} | Train Loss: {avg_loss:.4f} | Val Loss: {val_loss:.4f}\")\n",
    "\n",
    "        # 2. EarlyStopping 콜백 호출\n",
    "        #    현재 epoch의 val_loss와 model 객체를 전달합니다.\n",
    "        early_stopper(val_loss, model)\n",
    "        \n",
    "        # 3. 콜백의 조기 중단 플래그를 확인합니다.\n",
    "        if early_stopper.early_stop:\n",
    "            print(f\"Early stopping triggered at epoch {epoch+1}\")\n",
    "            break\n",
    "\n",
    "            \n",
    "    # 4. (!!!) 학습 루프가 끝난 후, 저장된 최고의 모델 가중치를 불러옵니다.\n",
    "    print(f\"Training finished. Loading best model from {early_stopper.path}...\")\n",
    "    model.load_state_dict(torch.load(early_stopper.path))"
   ]
  },
  {
   "cell_type": "code",
   "execution_count": 35,
   "id": "82950afe-daf9-4f90-a431-474324a25497",
   "metadata": {
    "scrolled": true
   },
   "outputs": [
    {
     "name": "stdout",
     "output_type": "stream",
     "text": [
      "Epoch 1/50 | Train Loss: 7.4173 | Val Loss: 7.1604\n",
      "Validation loss decreased (inf --> 7.160351). Saving model to News_Summary/model/best_model.pth ...\n",
      "Epoch 2/50 | Train Loss: 7.1265 | Val Loss: 6.9556\n",
      "Validation loss decreased (7.160351 --> 6.955626). Saving model to News_Summary/model/best_model.pth ...\n",
      "Epoch 3/50 | Train Loss: 6.8148 | Val Loss: 6.6292\n",
      "Validation loss decreased (6.955626 --> 6.629198). Saving model to News_Summary/model/best_model.pth ...\n",
      "Epoch 4/50 | Train Loss: 6.5188 | Val Loss: 6.4062\n",
      "Validation loss decreased (6.629198 --> 6.406231). Saving model to News_Summary/model/best_model.pth ...\n",
      "Epoch 5/50 | Train Loss: 6.2948 | Val Loss: 6.2576\n",
      "Validation loss decreased (6.406231 --> 6.257561). Saving model to News_Summary/model/best_model.pth ...\n",
      "Epoch 6/50 | Train Loss: 6.0932 | Val Loss: 6.1196\n",
      "Validation loss decreased (6.257561 --> 6.119610). Saving model to News_Summary/model/best_model.pth ...\n",
      "Epoch 7/50 | Train Loss: 5.9060 | Val Loss: 5.9902\n",
      "Validation loss decreased (6.119610 --> 5.990183). Saving model to News_Summary/model/best_model.pth ...\n",
      "Epoch 8/50 | Train Loss: 5.7345 | Val Loss: 5.9011\n",
      "Validation loss decreased (5.990183 --> 5.901132). Saving model to News_Summary/model/best_model.pth ...\n",
      "Epoch 9/50 | Train Loss: 5.5738 | Val Loss: 5.8184\n",
      "Validation loss decreased (5.901132 --> 5.818366). Saving model to News_Summary/model/best_model.pth ...\n",
      "Epoch 10/50 | Train Loss: 5.4251 | Val Loss: 5.7539\n",
      "Validation loss decreased (5.818366 --> 5.753894). Saving model to News_Summary/model/best_model.pth ...\n",
      "Epoch 11/50 | Train Loss: 5.2860 | Val Loss: 5.7041\n",
      "Validation loss decreased (5.753894 --> 5.704137). Saving model to News_Summary/model/best_model.pth ...\n",
      "Epoch 12/50 | Train Loss: 5.1569 | Val Loss: 5.6601\n",
      "Validation loss decreased (5.704137 --> 5.660098). Saving model to News_Summary/model/best_model.pth ...\n",
      "Epoch 13/50 | Train Loss: 5.0368 | Val Loss: 5.6346\n",
      "Validation loss decreased (5.660098 --> 5.634609). Saving model to News_Summary/model/best_model.pth ...\n",
      "Epoch 14/50 | Train Loss: 4.9221 | Val Loss: 5.6117\n",
      "Validation loss decreased (5.634609 --> 5.611713). Saving model to News_Summary/model/best_model.pth ...\n",
      "Epoch 15/50 | Train Loss: 4.8154 | Val Loss: 5.5944\n",
      "Validation loss decreased (5.611713 --> 5.594405). Saving model to News_Summary/model/best_model.pth ...\n",
      "Epoch 16/50 | Train Loss: 4.7127 | Val Loss: 5.5930\n",
      "Validation loss decreased (5.594405 --> 5.592996). Saving model to News_Summary/model/best_model.pth ...\n",
      "Epoch 17/50 | Train Loss: 4.6177 | Val Loss: 5.5853\n",
      "Validation loss decreased (5.592996 --> 5.585284). Saving model to News_Summary/model/best_model.pth ...\n",
      "Epoch 18/50 | Train Loss: 4.5250 | Val Loss: 5.5914\n",
      "EarlyStopping counter: 1 out of 3\n",
      "Epoch 19/50 | Train Loss: 4.4378 | Val Loss: 5.6020\n",
      "EarlyStopping counter: 2 out of 3\n",
      "Epoch 20/50 | Train Loss: 4.3562 | Val Loss: 5.6007\n",
      "EarlyStopping counter: 3 out of 3\n",
      "Early stopping triggered at epoch 20\n",
      "Training finished. Loading best model from News_Summary/model/best_model.pth...\n",
      "CPU times: user 6min 54s, sys: 1.43 s, total: 6min 55s\n",
      "Wall time: 6min 57s\n"
     ]
    }
   ],
   "source": [
    "%%time\n",
    "train_losses = []\n",
    "val_losses = []\n",
    "train_model(model, train_loader, test_loader, criterion, optimizer, epochs=epochs, patience=patience)"
   ]
  },
  {
   "cell_type": "code",
   "execution_count": 36,
   "id": "6aba8423-ee58-4ec9-ac19-304cbeddf325",
   "metadata": {},
   "outputs": [
    {
     "data": {
      "image/png": "[encoded data removed]",
      "text/plain": [
       "<Figure size 640x480 with 1 Axes>"
      ]
     },
     "metadata": {},
     "output_type": "display_data"
    }
   ],
   "source": [
    "plt.plot(range(len(train_losses)), train_losses, label='Train Loss')\n",
    "plt.plot(range(len(val_losses)), val_losses, label='Validation Loss')\n",
    "plt.legend()\n",
    "plt.xlabel(\"Epochs\")\n",
    "plt.ylabel(\"Loss\")\n",
    "plt.title(\"Training and Validation Loss\")\n",
    "plt.show()"
   ]
  },
  {
   "cell_type": "markdown",
   "id": "4dfc9337-bdcd-4f3d-8478-6d63517047b3",
   "metadata": {},
   "source": [
    "## Step 4. 실제 결과와 요약문 비교하기 (추상적 요약)\n",
    "원래의 요약문(headlines 열)과 학습을 통해 얻은 추상적 요약의 결과를 비교해 보세요."
   ]
  },
  {
   "cell_type": "markdown",
   "id": "535ddd32-372b-40d3-8cf2-fe6528f2386f",
   "metadata": {},
   "source": [
    "### Inference Modeling"
   ]
  },
  {
   "cell_type": "code",
   "execution_count": 37,
   "id": "c0e93c33-1726-4fc1-9571-d85c406addd1",
   "metadata": {},
   "outputs": [],
   "source": [
    "src_index_to_word = {idx: word for word, idx in src_vocab.items()} # 원문 단어 집합에서 정수 -> 단어를 얻음\n",
    "tar_word_to_index = tar_vocab # 요약 단어 집합에서 단어 -> 정수를 얻음\n",
    "tar_index_to_word = {idx: word for word, idx in tar_vocab.items()} # 요약 단어 집합에서 정수 -> 단어를 얻음\n",
    "\n",
    "device = torch.device(\"cuda\" if torch.cuda.is_available() else \"cpu\")\n",
    "decoder.to(device)\n",
    "\n",
    "# 인코더 설계\n",
    "def encode_input(encoder, input_seq):\n",
    "    encoder_outputs, hidden, cell = encoder(input_seq)\n",
    "    return encoder_outputs, hidden, cell\n",
    "\n",
    "# 이전 시점의 상태들을 저장하는 텐서\n",
    "num_layers = 3  # 디코더 LSTM 레이어 개수 (설정에 맞춰 조정)\n",
    "batch_size = 1\n",
    "\n",
    "decoder_state_input_h = torch.zeros((num_layers, batch_size, hidden_size), dtype=torch.float, device=device)\n",
    "decoder_state_input_c = torch.zeros((num_layers, batch_size, hidden_size), dtype=torch.float, device=device)\n",
    "decoder_input = torch.zeros((batch_size, 1), dtype=torch.long, device=device)\n",
    "\n",
    "dec_emb2 = decoder.embedding(decoder_input)\n",
    "\n",
    "# 문장의 다음 단어를 예측하기 위해서 초기 상태(initial_state)를 이전 시점의 상태로 사용. 이는 뒤의 함수 decode_sequence()에 구현\n",
    "# 훈련 과정에서와 달리 LSTM의 리턴하는 은닉 상태와 셀 상태인 state_h와 state_c를 버리지 않음.\n",
    "decoder_outputs2, state_h2, state_c2 = decoder(decoder_input, decoder_state_input_h, decoder_state_input_c)"
   ]
  },
  {
   "cell_type": "code",
   "execution_count": 38,
   "id": "46f6a068-505f-417f-9fe6-ca9be8d6e113",
   "metadata": {},
   "outputs": [],
   "source": [
    "class DecoderWithAttention(nn.Module):\n",
    "    def __init__(self, decoder, attention, hidden_size, vocab_size):\n",
    "        super(DecoderWithAttention, self).__init__()\n",
    "        self.decoder = decoder  # 기존 디코더\n",
    "        self.attention = attention  # 어텐션 레이어\n",
    "        self.concat = nn.Linear(hidden_size * 2, hidden_size)  # 어텐션 결합 레이어\n",
    "        self.output_layer = nn.Linear(hidden_size, vocab_size)  # 최종 출력층\n",
    "        self.softmax = nn.Softmax(dim=-1)  # 소프트맥스\n",
    "\n",
    "    def forward(self, decoder_inputs, decoder_hidden_state, decoder_state_h, decoder_state_c):\n",
    "        # 디코더 실행\n",
    "        decoder_outputs, state_h, state_c = self.decoder(decoder_inputs, decoder_state_h, decoder_state_c)\n",
    "\n",
    "        # 어텐션 적용\n",
    "        attn_out = self.attention(decoder_outputs, decoder_hidden_state)\n",
    "\n",
    "        # 어텐션과 디코더 출력 결합\n",
    "        decoder_concat_output = torch.cat((decoder_outputs, attn_out), dim=-1)\n",
    "        decoder_concat_output = torch.tanh(self.concat(decoder_concat_output))\n",
    "\n",
    "        # 최종 출력층 적용\n",
    "        decoder_outputs2 = self.softmax(self.output_layer(decoder_concat_output))\n",
    "\n",
    "        return decoder_outputs2, state_h, state_c\n",
    "\n",
    "# 기존 Attention 클래스 사용\n",
    "attention_layer = Attention_dot(hidden_size)\n",
    "\n",
    "# 디코더 모델 생성\n",
    "decoder_model = DecoderWithAttention(decoder, attention_layer, hidden_size, tar_vocab_size).to(device)"
   ]
  },
  {
   "cell_type": "code",
   "execution_count": 39,
   "id": "7e004213-709a-4a81-b16b-7486b8a73409",
   "metadata": {},
   "outputs": [],
   "source": [
    "def decode_sequence(input_seq, encoder, decoder, tar_word_to_index, tar_index_to_word,\n",
    "                    text_max_len, summary_max_len, device):\n",
    "    input_seq = torch.tensor(input_seq, dtype=torch.long, device=device)\n",
    "\n",
    "    with torch.no_grad():\n",
    "        e_out, e_h, e_c = encoder(input_seq)\n",
    "\n",
    "    # <SOS> 토큰\n",
    "    target_seq = torch.zeros((1, 1), dtype=torch.long, device=device)\n",
    "    target_seq[0, 0] = tar_word_to_index['sostoken']\n",
    "\n",
    "    stop_condition = False\n",
    "    decoded_sentence = ''\n",
    "\n",
    "    while not stop_condition:\n",
    "        with torch.no_grad():\n",
    "            # 여기서 Attention 포함 디코더를 사용\n",
    "            output_tokens, h, c = decoder(target_seq, e_out, e_h, e_c)\n",
    "\n",
    "        sampled_token_index = torch.argmax(output_tokens[0, -1, :]).item()\n",
    "        sampled_token = tar_index_to_word[sampled_token_index]\n",
    "\n",
    "        if sampled_token != 'eostoken':\n",
    "            decoded_sentence += ' ' + sampled_token\n",
    "\n",
    "        if sampled_token == 'eostoken' or len(decoded_sentence.split()) >= (summary_max_len - 1):\n",
    "            stop_condition = True\n",
    "\n",
    "        target_seq[0, 0] = sampled_token_index\n",
    "        e_h, e_c = h, c\n",
    "\n",
    "    return decoded_sentence\n"
   ]
  },
  {
   "cell_type": "markdown",
   "id": "00eb3926-35a2-4782-9fab-e3ca6f53b007",
   "metadata": {},
   "source": [
    "### Model Testing"
   ]
  },
  {
   "cell_type": "code",
   "execution_count": 40,
   "id": "85619256-7042-48b6-b99d-5aa6c10a2057",
   "metadata": {},
   "outputs": [],
   "source": [
    "# 원문의 정수 시퀀스를 텍스트 시퀀스로 변환\n",
    "def seq2text(input_seq):\n",
    "    temp = ''\n",
    "    for i in input_seq:\n",
    "        key = int(i.item())  # PyTorch Tensor → int 변환\n",
    "        if key != 0:  # 패딩(0) 제외\n",
    "            temp = temp + src_index_to_word.get(key, \"<UNK>\") + ' '  # 안전한 조회\n",
    "    return temp.strip()\n",
    "\n",
    "# 요약문의 정수 시퀀스를 텍스트 시퀀스로 변환\n",
    "def seq2summary(input_seq):\n",
    "    temp = ''\n",
    "    for i in input_seq:\n",
    "        key = int(i.item())  # PyTorch Tensor → int 변환\n",
    "        \n",
    "        if key != 0 and key != tar_word_to_index['sostoken'] and key != tar_word_to_index['eostoken']:\n",
    "            temp = temp + tar_index_to_word.get(key, \"<UNK>\") + ' '  # 안전한 조회\n",
    "    return temp.strip()  # 양쪽 공백 제거\n"
   ]
  },
  {
   "cell_type": "code",
   "execution_count": 41,
   "id": "d148a821-ff3e-4c62-9981-d33ec047abb8",
   "metadata": {},
   "outputs": [
    {
     "name": "stdout",
     "output_type": "stream",
     "text": [
      "원문 : new mercedes benz class launched india diesel priced crore petrol crore class india first bs vi compliant made india india vehicle touted world best car driven intelligence features include latest radar based driving assistance systems class leading rear seat comfort package\n"
     ]
    },
    {
     "ename": "KeyError",
     "evalue": "'sos_token'",
     "output_type": "error",
     "traceback": [
      "\u001b[31m---------------------------------------------------------------------------\u001b[39m",
      "\u001b[31mKeyError\u001b[39m                                  Traceback (most recent call last)",
      "\u001b[36mFile \u001b[39m\u001b[32m<timed exec>:3\u001b[39m\n",
      "\u001b[36mCell\u001b[39m\u001b[36m \u001b[39m\u001b[32mIn[40]\u001b[39m\u001b[32m, line 16\u001b[39m, in \u001b[36mseq2summary\u001b[39m\u001b[34m(input_seq)\u001b[39m\n\u001b[32m     13\u001b[39m \u001b[38;5;28;01mfor\u001b[39;00m i \u001b[38;5;129;01min\u001b[39;00m input_seq:\n\u001b[32m     14\u001b[39m     key = \u001b[38;5;28mint\u001b[39m(i.item())  \u001b[38;5;66;03m# PyTorch Tensor → int 변환\u001b[39;00m\n\u001b[32m---> \u001b[39m\u001b[32m16\u001b[39m     \u001b[38;5;28;01mif\u001b[39;00m key != \u001b[32m0\u001b[39m \u001b[38;5;129;01mand\u001b[39;00m key != \u001b[43mtar_word_to_index\u001b[49m\u001b[43m[\u001b[49m\u001b[33;43m'\u001b[39;49m\u001b[33;43msos_token\u001b[39;49m\u001b[33;43m'\u001b[39;49m\u001b[43m]\u001b[49m \u001b[38;5;129;01mand\u001b[39;00m key != tar_word_to_index[\u001b[33m'\u001b[39m\u001b[33meos_token\u001b[39m\u001b[33m'\u001b[39m]:\n\u001b[32m     17\u001b[39m         temp = temp + tar_index_to_word.get(key, \u001b[33m\"\u001b[39m\u001b[33m<UNK>\u001b[39m\u001b[33m\"\u001b[39m) + \u001b[33m'\u001b[39m\u001b[33m \u001b[39m\u001b[33m'\u001b[39m  \u001b[38;5;66;03m# 안전한 조회\u001b[39;00m\n\u001b[32m     18\u001b[39m \u001b[38;5;28;01mreturn\u001b[39;00m temp.strip()\n",
      "\u001b[31mKeyError\u001b[39m: 'sos_token'"
     ]
    }
   ],
   "source": [
    "%%time\n",
    "for i in range(50, 100):\n",
    "    print(\"원문 :\", seq2text(encoder_input_test[i]))\n",
    "    print(\"실제 요약 :\", seq2summary(decoder_input_test[i]))\n",
    "    input_seq = torch.tensor(encoder_input_test[i], dtype=torch.long, device=device).unsqueeze(0)\n",
    "    print(\"예측 요약 :\", decode_sequence(input_seq, encoder, decoder_model, tar_word_to_index, tar_index_to_word, text_max_len, summary_max_len, device))\n",
    "    print(\"\\n\")"
   ]
  },
  {
   "cell_type": "markdown",
   "id": "36c1b9b2-68ea-43fb-9fde-73f4a99cc106",
   "metadata": {},
   "source": [
    "## Step 5. Summa을 이용해서 추출적 요약해보기"
   ]
  },
  {
   "cell_type": "code",
   "execution_count": null,
   "id": "798f4c37-a118-432a-8613-e0c7750c03a0",
   "metadata": {},
   "outputs": [],
   "source": [
    "import requests\n",
    "from summa.summarizer import summarize"
   ]
  },
  {
   "cell_type": "code",
   "execution_count": null,
   "id": "dd899a93-52c1-4a88-a037-be550ec2ea65",
   "metadata": {},
   "outputs": [],
   "source": [
    "%%time\n",
    "for i in range(50, 100):\n",
    "    print(\"원문 :\", seq2text(encoder_input_test[i]))\n",
    "    print(\"실제 요약 :\", seq2summary(decoder_input_test[i]))\n",
    "    input_seq = torch.tensor(encoder_input_test[i], dtype=torch.long, device=device).unsqueeze(0)\n",
    "    print(\"예측 요약 :\", summarize(seq2text(encoder_input_test[i]), ratio=0.01))\n",
    "    print(\"\\n\")"
   ]
  }
 ],
 "metadata": {
  "kernelspec": {
   "display_name": "Python 3 (ipykernel)",
   "language": "python",
   "name": "python3"
  },
  "language_info": {
   "codemirror_mode": {
    "name": "ipython",
    "version": 3
   },
   "file_extension": ".py",
   "mimetype": "text/x-python",
   "name": "python",
   "nbconvert_exporter": "python",
   "pygments_lexer": "ipython3",
   "version": "3.12.11"
  }
 },
 "nbformat": 4,
 "nbformat_minor": 5
}
